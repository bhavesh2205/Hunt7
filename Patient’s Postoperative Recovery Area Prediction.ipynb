{
 "cells": [
  {
   "cell_type": "markdown",
   "id": "79f44630",
   "metadata": {},
   "source": [
    "# Patient’s Postoperative Recovery Area Prediction"
   ]
  },
  {
   "cell_type": "code",
   "execution_count": 1,
   "id": "1f24e76b",
   "metadata": {},
   "outputs": [],
   "source": [
    "import numpy as np\n",
    "import pandas as pd\n",
    "from numpy import math\n",
    "import matplotlib.pyplot as plt\n",
    "import seaborn as sns"
   ]
  },
  {
   "cell_type": "code",
   "execution_count": 3,
   "id": "8c40f269",
   "metadata": {},
   "outputs": [],
   "source": [
    "data = pd.read_csv('post-operative.data',header=None)"
   ]
  },
  {
   "cell_type": "code",
   "execution_count": 5,
   "id": "dfaaba5f",
   "metadata": {},
   "outputs": [
    {
     "data": {
      "text/html": [
       "<div>\n",
       "<style scoped>\n",
       "    .dataframe tbody tr th:only-of-type {\n",
       "        vertical-align: middle;\n",
       "    }\n",
       "\n",
       "    .dataframe tbody tr th {\n",
       "        vertical-align: top;\n",
       "    }\n",
       "\n",
       "    .dataframe thead th {\n",
       "        text-align: right;\n",
       "    }\n",
       "</style>\n",
       "<table border=\"1\" class=\"dataframe\">\n",
       "  <thead>\n",
       "    <tr style=\"text-align: right;\">\n",
       "      <th></th>\n",
       "      <th>0</th>\n",
       "      <th>1</th>\n",
       "      <th>2</th>\n",
       "      <th>3</th>\n",
       "      <th>4</th>\n",
       "      <th>5</th>\n",
       "      <th>6</th>\n",
       "      <th>7</th>\n",
       "      <th>8</th>\n",
       "    </tr>\n",
       "  </thead>\n",
       "  <tbody>\n",
       "    <tr>\n",
       "      <th>0</th>\n",
       "      <td>mid</td>\n",
       "      <td>low</td>\n",
       "      <td>excellent</td>\n",
       "      <td>mid</td>\n",
       "      <td>stable</td>\n",
       "      <td>stable</td>\n",
       "      <td>stable</td>\n",
       "      <td>15</td>\n",
       "      <td>A</td>\n",
       "    </tr>\n",
       "    <tr>\n",
       "      <th>1</th>\n",
       "      <td>mid</td>\n",
       "      <td>high</td>\n",
       "      <td>excellent</td>\n",
       "      <td>high</td>\n",
       "      <td>stable</td>\n",
       "      <td>stable</td>\n",
       "      <td>stable</td>\n",
       "      <td>10</td>\n",
       "      <td>S</td>\n",
       "    </tr>\n",
       "    <tr>\n",
       "      <th>2</th>\n",
       "      <td>high</td>\n",
       "      <td>low</td>\n",
       "      <td>excellent</td>\n",
       "      <td>high</td>\n",
       "      <td>stable</td>\n",
       "      <td>stable</td>\n",
       "      <td>mod-stable</td>\n",
       "      <td>10</td>\n",
       "      <td>A</td>\n",
       "    </tr>\n",
       "    <tr>\n",
       "      <th>3</th>\n",
       "      <td>mid</td>\n",
       "      <td>low</td>\n",
       "      <td>good</td>\n",
       "      <td>high</td>\n",
       "      <td>stable</td>\n",
       "      <td>unstable</td>\n",
       "      <td>mod-stable</td>\n",
       "      <td>15</td>\n",
       "      <td>A</td>\n",
       "    </tr>\n",
       "    <tr>\n",
       "      <th>4</th>\n",
       "      <td>mid</td>\n",
       "      <td>mid</td>\n",
       "      <td>excellent</td>\n",
       "      <td>high</td>\n",
       "      <td>stable</td>\n",
       "      <td>stable</td>\n",
       "      <td>stable</td>\n",
       "      <td>10</td>\n",
       "      <td>A</td>\n",
       "    </tr>\n",
       "  </tbody>\n",
       "</table>\n",
       "</div>"
      ],
      "text/plain": [
       "      0     1          2     3       4         5           6   7   8\n",
       "0   mid   low  excellent   mid  stable    stable      stable  15   A\n",
       "1   mid  high  excellent  high  stable    stable      stable  10   S\n",
       "2  high   low  excellent  high  stable    stable  mod-stable  10   A\n",
       "3   mid   low       good  high  stable  unstable  mod-stable  15  A \n",
       "4   mid   mid  excellent  high  stable    stable      stable  10   A"
      ]
     },
     "execution_count": 5,
     "metadata": {},
     "output_type": "execute_result"
    }
   ],
   "source": [
    "data.head()"
   ]
  },
  {
   "cell_type": "code",
   "execution_count": 6,
   "id": "d5f93d43",
   "metadata": {},
   "outputs": [
    {
     "name": "stdout",
     "output_type": "stream",
     "text": [
      "<class 'pandas.core.frame.DataFrame'>\n",
      "RangeIndex: 90 entries, 0 to 89\n",
      "Data columns (total 9 columns):\n",
      " #   Column  Non-Null Count  Dtype \n",
      "---  ------  --------------  ----- \n",
      " 0   0       90 non-null     object\n",
      " 1   1       90 non-null     object\n",
      " 2   2       90 non-null     object\n",
      " 3   3       90 non-null     object\n",
      " 4   4       90 non-null     object\n",
      " 5   5       90 non-null     object\n",
      " 6   6       90 non-null     object\n",
      " 7   7       90 non-null     object\n",
      " 8   8       90 non-null     object\n",
      "dtypes: object(9)\n",
      "memory usage: 6.5+ KB\n"
     ]
    }
   ],
   "source": [
    "data.info()"
   ]
  },
  {
   "cell_type": "code",
   "execution_count": 8,
   "id": "06538f01",
   "metadata": {},
   "outputs": [],
   "source": [
    "data.rename(columns=\n",
    "               {0 : 'core_temp' ,\n",
    "                1 : 'surf_temp' ,\n",
    "                2 : 'o2_satur' ,\n",
    "                3 : 'bp' ,\n",
    "                4 : 'surf_temp_stbl' ,\n",
    "                5 : 'core_temp_stbl' ,\n",
    "                6 : 'bp_stbl' ,\n",
    "                7 : 'comfort' ,\n",
    "                8 : 'decision'},inplace=True)"
   ]
  },
  {
   "cell_type": "code",
   "execution_count": 9,
   "id": "4ac1802f",
   "metadata": {},
   "outputs": [
    {
     "name": "stdout",
     "output_type": "stream",
     "text": [
      "<class 'pandas.core.frame.DataFrame'>\n",
      "RangeIndex: 90 entries, 0 to 89\n",
      "Data columns (total 9 columns):\n",
      " #   Column          Non-Null Count  Dtype \n",
      "---  ------          --------------  ----- \n",
      " 0   core_temp       90 non-null     object\n",
      " 1   surf_temp       90 non-null     object\n",
      " 2   o2_satur        90 non-null     object\n",
      " 3   bp              90 non-null     object\n",
      " 4   surf_temp_stbl  90 non-null     object\n",
      " 5   core_temp_stbl  90 non-null     object\n",
      " 6   bp_stbl         90 non-null     object\n",
      " 7   comfort         90 non-null     object\n",
      " 8   decision        90 non-null     object\n",
      "dtypes: object(9)\n",
      "memory usage: 6.5+ KB\n"
     ]
    }
   ],
   "source": [
    "data.info()"
   ]
  },
  {
   "cell_type": "code",
   "execution_count": 10,
   "id": "915cee42",
   "metadata": {},
   "outputs": [],
   "source": [
    "data['core_temp'] = data['core_temp'].replace({'high' : 2 , 'mid' : 1 ,'low' : 0})\n",
    "data['surf_temp'] = data['surf_temp'].replace({'high' : 2 , 'mid' : 1 ,'low' : 0})\n",
    "data['bp'] = data['bp'].replace({'high' : 2 , 'mid' : 1 ,'low' : 0})\n",
    "data['surf_temp_stbl'] = data['surf_temp_stbl'].replace({'stable' : 2 , 'mod_stable' : 1 ,'unstable' : 0})\n",
    "data['core_temp_stbl'] = data['core_temp_stbl'].replace({'stable' : 2 , 'mod_stable' : 1 ,'mod-stable' : 1 ,'unstable' : 0})\n",
    "data['bp_stbl'] = data['bp'].replace({'stable' : 2 , 'mod_stable' : 1 ,'unstable' : 0})\n",
    "data['o2_satur'] = data['o2_satur'].replace({'poor' : 0 , 'fair' : 1 , 'good' : 2 , 'excellent' : 3})\n",
    "data['decision'] = data['decision'].replace({'I' : 0 , 'A' : 1 ,'A ' : 1, 'S' : 2})"
   ]
  },
  {
   "cell_type": "code",
   "execution_count": 12,
   "id": "6ed2e3d1",
   "metadata": {},
   "outputs": [
    {
     "data": {
      "text/plain": [
       "10    65\n",
       "15    19\n",
       "?      3\n",
       "05     2\n",
       "07     1\n",
       "Name: comfort, dtype: int64"
      ]
     },
     "execution_count": 12,
     "metadata": {},
     "output_type": "execute_result"
    }
   ],
   "source": [
    "data['comfort'].value_counts()"
   ]
  },
  {
   "cell_type": "code",
   "execution_count": 13,
   "id": "1acc588c",
   "metadata": {},
   "outputs": [
    {
     "name": "stderr",
     "output_type": "stream",
     "text": [
      "C:\\Users\\bhave\\AppData\\Local\\Temp/ipykernel_17264/3920981678.py:1: FutureWarning: The default value of regex will change from True to False in a future version. In addition, single character regular expressions will *not* be treated as literal strings when regex=True.\n",
      "  data['comfort'] = data['comfort'].str.replace('?' , '10').astype(int)\n"
     ]
    }
   ],
   "source": [
    "data['comfort'] = data['comfort'].str.replace('?' , '10').astype(int)"
   ]
  },
  {
   "cell_type": "code",
   "execution_count": 14,
   "id": "7087d8b2",
   "metadata": {},
   "outputs": [
    {
     "data": {
      "text/html": [
       "<div>\n",
       "<style scoped>\n",
       "    .dataframe tbody tr th:only-of-type {\n",
       "        vertical-align: middle;\n",
       "    }\n",
       "\n",
       "    .dataframe tbody tr th {\n",
       "        vertical-align: top;\n",
       "    }\n",
       "\n",
       "    .dataframe thead th {\n",
       "        text-align: right;\n",
       "    }\n",
       "</style>\n",
       "<table border=\"1\" class=\"dataframe\">\n",
       "  <thead>\n",
       "    <tr style=\"text-align: right;\">\n",
       "      <th></th>\n",
       "      <th>core_temp</th>\n",
       "      <th>surf_temp</th>\n",
       "      <th>o2_satur</th>\n",
       "      <th>bp</th>\n",
       "      <th>surf_temp_stbl</th>\n",
       "      <th>core_temp_stbl</th>\n",
       "      <th>bp_stbl</th>\n",
       "      <th>comfort</th>\n",
       "    </tr>\n",
       "  </thead>\n",
       "  <tbody>\n",
       "    <tr>\n",
       "      <th>0</th>\n",
       "      <td>0.112509</td>\n",
       "      <td>-1.345166</td>\n",
       "      <td>1.045478</td>\n",
       "      <td>-0.570352</td>\n",
       "      <td>1.0</td>\n",
       "      <td>0.284975</td>\n",
       "      <td>-0.570352</td>\n",
       "      <td>1.810021</td>\n",
       "    </tr>\n",
       "    <tr>\n",
       "      <th>1</th>\n",
       "      <td>0.112509</td>\n",
       "      <td>1.607638</td>\n",
       "      <td>1.045478</td>\n",
       "      <td>1.330821</td>\n",
       "      <td>1.0</td>\n",
       "      <td>0.284975</td>\n",
       "      <td>1.330821</td>\n",
       "      <td>-0.403320</td>\n",
       "    </tr>\n",
       "    <tr>\n",
       "      <th>2</th>\n",
       "      <td>1.800141</td>\n",
       "      <td>-1.345166</td>\n",
       "      <td>1.045478</td>\n",
       "      <td>1.330821</td>\n",
       "      <td>1.0</td>\n",
       "      <td>0.284975</td>\n",
       "      <td>1.330821</td>\n",
       "      <td>-0.403320</td>\n",
       "    </tr>\n",
       "    <tr>\n",
       "      <th>3</th>\n",
       "      <td>0.112509</td>\n",
       "      <td>-1.345166</td>\n",
       "      <td>-0.956501</td>\n",
       "      <td>1.330821</td>\n",
       "      <td>1.0</td>\n",
       "      <td>-3.660837</td>\n",
       "      <td>1.330821</td>\n",
       "      <td>1.810021</td>\n",
       "    </tr>\n",
       "    <tr>\n",
       "      <th>4</th>\n",
       "      <td>0.112509</td>\n",
       "      <td>0.131236</td>\n",
       "      <td>1.045478</td>\n",
       "      <td>1.330821</td>\n",
       "      <td>1.0</td>\n",
       "      <td>0.284975</td>\n",
       "      <td>1.330821</td>\n",
       "      <td>-0.403320</td>\n",
       "    </tr>\n",
       "  </tbody>\n",
       "</table>\n",
       "</div>"
      ],
      "text/plain": [
       "   core_temp  surf_temp  o2_satur        bp  surf_temp_stbl  core_temp_stbl  \\\n",
       "0   0.112509  -1.345166  1.045478 -0.570352             1.0        0.284975   \n",
       "1   0.112509   1.607638  1.045478  1.330821             1.0        0.284975   \n",
       "2   1.800141  -1.345166  1.045478  1.330821             1.0        0.284975   \n",
       "3   0.112509  -1.345166 -0.956501  1.330821             1.0       -3.660837   \n",
       "4   0.112509   0.131236  1.045478  1.330821             1.0        0.284975   \n",
       "\n",
       "    bp_stbl   comfort  \n",
       "0 -0.570352  1.810021  \n",
       "1  1.330821 -0.403320  \n",
       "2  1.330821 -0.403320  \n",
       "3  1.330821  1.810021  \n",
       "4  1.330821 -0.403320  "
      ]
     },
     "execution_count": 14,
     "metadata": {},
     "output_type": "execute_result"
    }
   ],
   "source": [
    "from sklearn.preprocessing import StandardScaler\n",
    " \n",
    "scaler = StandardScaler()\n",
    " \n",
    "scaler.fit(data.drop('decision', axis = 1))\n",
    "scaled_features = scaler.transform(data.drop('decision', axis = 1))\n",
    " \n",
    "data_feat = pd.DataFrame(scaled_features, columns = data.columns[:-1])\n",
    "data_feat.head()"
   ]
  },
  {
   "cell_type": "code",
   "execution_count": 15,
   "id": "82409bfb",
   "metadata": {},
   "outputs": [],
   "source": [
    "predictor_variables = list(set(data_feat.columns.to_list()))"
   ]
  },
  {
   "cell_type": "code",
   "execution_count": 17,
   "id": "d07b5143",
   "metadata": {},
   "outputs": [],
   "source": [
    "from sklearn.model_selection import train_test_split"
   ]
  },
  {
   "cell_type": "code",
   "execution_count": 18,
   "id": "5298d2e2",
   "metadata": {
    "scrolled": true
   },
   "outputs": [],
   "source": [
    "X_train, X_test, y_train, y_test = train_test_split(\n",
    "      scaled_features, data['decision'], test_size = 0.25)"
   ]
  },
  {
   "cell_type": "code",
   "execution_count": 19,
   "id": "3c6e37bd",
   "metadata": {},
   "outputs": [
    {
     "data": {
      "text/plain": [
       "array([[-1.57512306,  0.13123574,  1.04547753,  1.33082093,  1.        ,\n",
       "         0.28497536,  1.33082093, -0.40331988],\n",
       "       [-1.57512306,  0.13123574, -0.95650071, -0.57035183,  1.        ,\n",
       "         0.28497536, -0.57035183,  1.81002092],\n",
       "       [ 0.11250879, -1.34516637, -0.95650071, -0.57035183,  1.        ,\n",
       "         0.28497536, -0.57035183, -0.40331988],\n",
       "       [-1.57512306,  1.60763785,  1.04547753, -0.57035183, -1.        ,\n",
       "         0.28497536, -0.57035183, -0.40331988],\n",
       "       [ 0.11250879,  0.13123574,  1.04547753, -0.57035183, -1.        ,\n",
       "         0.28497536, -0.57035183, -0.40331988],\n",
       "       [ 0.11250879,  0.13123574,  1.04547753, -0.57035183,  1.        ,\n",
       "         0.28497536, -0.57035183, -0.40331988],\n",
       "       [ 0.11250879,  1.60763785, -0.95650071, -0.57035183,  1.        ,\n",
       "         0.28497536, -0.57035183, -0.40331988],\n",
       "       [ 0.11250879,  0.13123574,  1.04547753, -0.57035183,  1.        ,\n",
       "         0.28497536, -0.57035183,  1.81002092],\n",
       "       [ 0.11250879,  0.13123574, -0.95650071,  1.33082093,  1.        ,\n",
       "         0.28497536,  1.33082093, -0.40331988],\n",
       "       [ 1.80014064, -1.34516637, -0.95650071, -0.57035183,  1.        ,\n",
       "         0.28497536, -0.57035183,  1.81002092],\n",
       "       [ 0.11250879,  1.60763785,  1.04547753,  1.33082093,  1.        ,\n",
       "         0.28497536,  1.33082093, -0.40331988],\n",
       "       [-1.57512306,  0.13123574,  1.04547753,  1.33082093,  1.        ,\n",
       "         0.28497536,  1.33082093, -0.40331988],\n",
       "       [ 0.11250879, -1.34516637,  1.04547753,  1.33082093,  1.        ,\n",
       "         0.28497536,  1.33082093, -0.40331988],\n",
       "       [ 0.11250879, -1.34516637,  1.04547753,  1.33082093, -1.        ,\n",
       "         0.28497536,  1.33082093, -0.40331988],\n",
       "       [-1.57512306, -1.34516637,  1.04547753, -0.57035183,  1.        ,\n",
       "         0.28497536, -0.57035183, -0.40331988],\n",
       "       [ 0.11250879, -1.34516637,  1.04547753, -0.57035183,  1.        ,\n",
       "         0.28497536, -0.57035183, -0.40331988],\n",
       "       [ 0.11250879, -1.34516637, -0.95650071,  1.33082093, -1.        ,\n",
       "         0.28497536,  1.33082093, -0.40331988],\n",
       "       [ 0.11250879,  0.13123574, -0.95650071, -0.57035183, -1.        ,\n",
       "         0.28497536, -0.57035183, -0.40331988],\n",
       "       [ 0.11250879, -1.34516637,  1.04547753,  1.33082093,  1.        ,\n",
       "         0.28497536,  1.33082093, -2.61666068],\n",
       "       [ 0.11250879,  0.13123574,  1.04547753, -0.57035183, -1.        ,\n",
       "        -3.66083733, -0.57035183, -0.40331988],\n",
       "       [ 1.80014064,  1.60763785,  1.04547753,  1.33082093, -1.        ,\n",
       "         0.28497536,  1.33082093,  1.81002092],\n",
       "       [-1.57512306, -1.34516637, -0.95650071, -0.57035183,  1.        ,\n",
       "         0.28497536, -0.57035183, -1.73132436],\n",
       "       [ 0.11250879,  0.13123574, -0.95650071, -0.57035183,  1.        ,\n",
       "         0.28497536, -0.57035183,  1.81002092]])"
      ]
     },
     "execution_count": 19,
     "metadata": {},
     "output_type": "execute_result"
    }
   ],
   "source": [
    "X_test"
   ]
  },
  {
   "cell_type": "code",
   "execution_count": 20,
   "id": "a8f8b694",
   "metadata": {},
   "outputs": [
    {
     "data": {
      "text/plain": [
       "LogisticRegression(max_iter=10000, multi_class='multinomial')"
      ]
     },
     "execution_count": 20,
     "metadata": {},
     "output_type": "execute_result"
    }
   ],
   "source": [
    "from sklearn.linear_model import LogisticRegression\n",
    "\n",
    "model = LogisticRegression(multi_class='multinomial',fit_intercept=True, max_iter=10000)\n",
    "model.fit(X_train, y_train)"
   ]
  },
  {
   "cell_type": "code",
   "execution_count": 21,
   "id": "48ee1c9a",
   "metadata": {},
   "outputs": [],
   "source": [
    "train_pred = model.predict_proba(X_train)\n",
    "test_pred = model.predict_proba(X_test)"
   ]
  },
  {
   "cell_type": "code",
   "execution_count": 22,
   "id": "00aab14b",
   "metadata": {},
   "outputs": [],
   "source": [
    "train_class_pred = model.predict(X_train)\n",
    "test_class_pred = model.predict(X_test)"
   ]
  },
  {
   "cell_type": "code",
   "execution_count": 24,
   "id": "2ce11ca5",
   "metadata": {},
   "outputs": [],
   "source": [
    "Dataframe = pd.DataFrame(test_class_pred,y_test).reset_index()\n",
    "Dataframe.columns = ['predicted', 'actual']"
   ]
  },
  {
   "cell_type": "code",
   "execution_count": 25,
   "id": "5edd1088",
   "metadata": {},
   "outputs": [
    {
     "data": {
      "text/html": [
       "<div>\n",
       "<style scoped>\n",
       "    .dataframe tbody tr th:only-of-type {\n",
       "        vertical-align: middle;\n",
       "    }\n",
       "\n",
       "    .dataframe tbody tr th {\n",
       "        vertical-align: top;\n",
       "    }\n",
       "\n",
       "    .dataframe thead th {\n",
       "        text-align: right;\n",
       "    }\n",
       "</style>\n",
       "<table border=\"1\" class=\"dataframe\">\n",
       "  <thead>\n",
       "    <tr style=\"text-align: right;\">\n",
       "      <th></th>\n",
       "      <th>predicted</th>\n",
       "      <th>actual</th>\n",
       "    </tr>\n",
       "  </thead>\n",
       "  <tbody>\n",
       "    <tr>\n",
       "      <th>0</th>\n",
       "      <td>1</td>\n",
       "      <td>1</td>\n",
       "    </tr>\n",
       "    <tr>\n",
       "      <th>1</th>\n",
       "      <td>2</td>\n",
       "      <td>1</td>\n",
       "    </tr>\n",
       "    <tr>\n",
       "      <th>2</th>\n",
       "      <td>0</td>\n",
       "      <td>1</td>\n",
       "    </tr>\n",
       "    <tr>\n",
       "      <th>3</th>\n",
       "      <td>1</td>\n",
       "      <td>1</td>\n",
       "    </tr>\n",
       "    <tr>\n",
       "      <th>4</th>\n",
       "      <td>1</td>\n",
       "      <td>1</td>\n",
       "    </tr>\n",
       "    <tr>\n",
       "      <th>5</th>\n",
       "      <td>1</td>\n",
       "      <td>1</td>\n",
       "    </tr>\n",
       "    <tr>\n",
       "      <th>6</th>\n",
       "      <td>2</td>\n",
       "      <td>1</td>\n",
       "    </tr>\n",
       "    <tr>\n",
       "      <th>7</th>\n",
       "      <td>1</td>\n",
       "      <td>1</td>\n",
       "    </tr>\n",
       "    <tr>\n",
       "      <th>8</th>\n",
       "      <td>1</td>\n",
       "      <td>1</td>\n",
       "    </tr>\n",
       "    <tr>\n",
       "      <th>9</th>\n",
       "      <td>2</td>\n",
       "      <td>1</td>\n",
       "    </tr>\n",
       "    <tr>\n",
       "      <th>10</th>\n",
       "      <td>2</td>\n",
       "      <td>1</td>\n",
       "    </tr>\n",
       "    <tr>\n",
       "      <th>11</th>\n",
       "      <td>1</td>\n",
       "      <td>1</td>\n",
       "    </tr>\n",
       "    <tr>\n",
       "      <th>12</th>\n",
       "      <td>1</td>\n",
       "      <td>1</td>\n",
       "    </tr>\n",
       "    <tr>\n",
       "      <th>13</th>\n",
       "      <td>1</td>\n",
       "      <td>1</td>\n",
       "    </tr>\n",
       "    <tr>\n",
       "      <th>14</th>\n",
       "      <td>1</td>\n",
       "      <td>1</td>\n",
       "    </tr>\n",
       "    <tr>\n",
       "      <th>15</th>\n",
       "      <td>2</td>\n",
       "      <td>1</td>\n",
       "    </tr>\n",
       "    <tr>\n",
       "      <th>16</th>\n",
       "      <td>1</td>\n",
       "      <td>1</td>\n",
       "    </tr>\n",
       "    <tr>\n",
       "      <th>17</th>\n",
       "      <td>1</td>\n",
       "      <td>1</td>\n",
       "    </tr>\n",
       "    <tr>\n",
       "      <th>18</th>\n",
       "      <td>2</td>\n",
       "      <td>1</td>\n",
       "    </tr>\n",
       "    <tr>\n",
       "      <th>19</th>\n",
       "      <td>2</td>\n",
       "      <td>1</td>\n",
       "    </tr>\n",
       "    <tr>\n",
       "      <th>20</th>\n",
       "      <td>1</td>\n",
       "      <td>1</td>\n",
       "    </tr>\n",
       "    <tr>\n",
       "      <th>21</th>\n",
       "      <td>2</td>\n",
       "      <td>1</td>\n",
       "    </tr>\n",
       "    <tr>\n",
       "      <th>22</th>\n",
       "      <td>1</td>\n",
       "      <td>1</td>\n",
       "    </tr>\n",
       "  </tbody>\n",
       "</table>\n",
       "</div>"
      ],
      "text/plain": [
       "    predicted  actual\n",
       "0           1       1\n",
       "1           2       1\n",
       "2           0       1\n",
       "3           1       1\n",
       "4           1       1\n",
       "5           1       1\n",
       "6           2       1\n",
       "7           1       1\n",
       "8           1       1\n",
       "9           2       1\n",
       "10          2       1\n",
       "11          1       1\n",
       "12          1       1\n",
       "13          1       1\n",
       "14          1       1\n",
       "15          2       1\n",
       "16          1       1\n",
       "17          1       1\n",
       "18          2       1\n",
       "19          2       1\n",
       "20          1       1\n",
       "21          2       1\n",
       "22          1       1"
      ]
     },
     "execution_count": 25,
     "metadata": {},
     "output_type": "execute_result"
    }
   ],
   "source": [
    "Dataframe"
   ]
  },
  {
   "cell_type": "code",
   "execution_count": 26,
   "id": "d936f499",
   "metadata": {},
   "outputs": [],
   "source": [
    "from sklearn.metrics import accuracy_score, confusion_matrix"
   ]
  },
  {
   "cell_type": "code",
   "execution_count": 27,
   "id": "bb693662",
   "metadata": {},
   "outputs": [
    {
     "name": "stdout",
     "output_type": "stream",
     "text": [
      "The accuracy on train data is  0.746268656716418\n",
      "The accuracy on test data is  0.6086956521739131\n"
     ]
    }
   ],
   "source": [
    "train_accuracy = accuracy_score(train_class_pred,y_train)\n",
    "test_accuracy = accuracy_score(test_class_pred,y_test)\n",
    "\n",
    "print(\"The accuracy on train data is \", train_accuracy)\n",
    "print(\"The accuracy on test data is \", test_accuracy)"
   ]
  },
  {
   "cell_type": "code",
   "execution_count": 31,
   "id": "1e029c50",
   "metadata": {},
   "outputs": [
    {
     "name": "stdout",
     "output_type": "stream",
     "text": [
      "[[ 0  1  0]\n",
      " [ 0 14  0]\n",
      " [ 0  8  0]]\n"
     ]
    }
   ],
   "source": [
    "cm = confusion_matrix(y_test, test_class_pred)\n",
    "print(cm)"
   ]
  },
  {
   "cell_type": "code",
   "execution_count": 32,
   "id": "39e35f87",
   "metadata": {},
   "outputs": [
    {
     "data": {
      "text/plain": [
       "<AxesSubplot:>"
      ]
     },
     "execution_count": 32,
     "metadata": {},
     "output_type": "execute_result"
    },
    {
     "data": {
      "image/png": "[encoded data removed]",
      "text/plain": [
       "<Figure size 432x288 with 2 Axes>"
      ]
     },
     "metadata": {
      "needs_background": "light"
     },
     "output_type": "display_data"
    }
   ],
   "source": [
    "sns.heatmap(cm,square = True,annot = True)"
   ]
  },
  {
   "cell_type": "code",
   "execution_count": null,
   "id": "b360876e",
   "metadata": {},
   "outputs": [],
   "source": []
  }
 ],
 "metadata": {
  "kernelspec": {
   "display_name": "Python 3 (ipykernel)",
   "language": "python",
   "name": "python3"
  },
  "language_info": {
   "codemirror_mode": {
    "name": "ipython",
    "version": 3
   },
   "file_extension": ".py",
   "mimetype": "text/x-python",
   "name": "python",
   "nbconvert_exporter": "python",
   "pygments_lexer": "ipython3",
   "version": "3.9.7"
  }
 },
 "nbformat": 4,
 "nbformat_minor": 5
}
