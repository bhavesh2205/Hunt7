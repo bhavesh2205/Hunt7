{
 "cells": [
  {
   "cell_type": "markdown",
   "id": "0223a750",
   "metadata": {},
   "source": [
    "# Real Estate valuation Prediction of New Taipei City"
   ]
  },
  {
   "cell_type": "markdown",
   "id": "17cea3af",
   "metadata": {},
   "source": [
    "# Steps\n",
    "### Load Dataset\n",
    "### Data Preprocessing\n",
    "### Exploratory Data Analysis\n",
    "### Model selection\n",
    "### model Training\n",
    "### Test the performance of the model\n",
    "### check some metrics to evaluate model\n"
   ]
  },
  {
   "cell_type": "markdown",
   "id": "352b3155",
   "metadata": {},
   "source": [
    "## Problem Statement:"
   ]
  },
  {
   "cell_type": "markdown",
   "id": "daa302ab",
   "metadata": {},
   "source": [
    "The market historical data set of real estate valuation are collected from Sindian Dist. New Taipei City , Taiwan. The real estate valuation is a regression problem. The data set was randomly split into the training dataset two-third samples and testing data set one third samples."
   ]
  },
  {
   "cell_type": "code",
   "execution_count": 1,
   "id": "a6caecc8",
   "metadata": {},
   "outputs": [],
   "source": [
    "import pandas as pd\n",
    "import numpy as np\n",
    "import matplotlib.pyplot as plt\n",
    "import seaborn as sns\n",
    "%matplotlib inline"
   ]
  },
  {
   "cell_type": "code",
   "execution_count": 2,
   "id": "1d228d87",
   "metadata": {},
   "outputs": [],
   "source": [
    "df=pd.read_csv('Real_estate.csv',index_col=None)"
   ]
  },
  {
   "cell_type": "code",
   "execution_count": 3,
   "id": "6ef11cf1",
   "metadata": {},
   "outputs": [
    {
     "data": {
      "text/html": [
       "<div>\n",
       "<style scoped>\n",
       "    .dataframe tbody tr th:only-of-type {\n",
       "        vertical-align: middle;\n",
       "    }\n",
       "\n",
       "    .dataframe tbody tr th {\n",
       "        vertical-align: top;\n",
       "    }\n",
       "\n",
       "    .dataframe thead th {\n",
       "        text-align: right;\n",
       "    }\n",
       "</style>\n",
       "<table border=\"1\" class=\"dataframe\">\n",
       "  <thead>\n",
       "    <tr style=\"text-align: right;\">\n",
       "      <th></th>\n",
       "      <th>transaction_date</th>\n",
       "      <th>house_age</th>\n",
       "      <th>distance_to _the _nearest _MRT _station</th>\n",
       "      <th>no_of_convenience_stores</th>\n",
       "      <th>latitude</th>\n",
       "      <th>longitude</th>\n",
       "      <th>house_price</th>\n",
       "    </tr>\n",
       "  </thead>\n",
       "  <tbody>\n",
       "    <tr>\n",
       "      <th>0</th>\n",
       "      <td>2012.917</td>\n",
       "      <td>32.0</td>\n",
       "      <td>84.87882</td>\n",
       "      <td>10</td>\n",
       "      <td>24.98298</td>\n",
       "      <td>121.54024</td>\n",
       "      <td>37.9</td>\n",
       "    </tr>\n",
       "    <tr>\n",
       "      <th>1</th>\n",
       "      <td>2012.917</td>\n",
       "      <td>19.5</td>\n",
       "      <td>306.59470</td>\n",
       "      <td>9</td>\n",
       "      <td>24.98034</td>\n",
       "      <td>121.53951</td>\n",
       "      <td>42.2</td>\n",
       "    </tr>\n",
       "    <tr>\n",
       "      <th>2</th>\n",
       "      <td>2013.583</td>\n",
       "      <td>13.3</td>\n",
       "      <td>561.98450</td>\n",
       "      <td>5</td>\n",
       "      <td>24.98746</td>\n",
       "      <td>121.54391</td>\n",
       "      <td>47.3</td>\n",
       "    </tr>\n",
       "    <tr>\n",
       "      <th>3</th>\n",
       "      <td>2013.500</td>\n",
       "      <td>13.3</td>\n",
       "      <td>561.98450</td>\n",
       "      <td>5</td>\n",
       "      <td>24.98746</td>\n",
       "      <td>121.54391</td>\n",
       "      <td>54.8</td>\n",
       "    </tr>\n",
       "    <tr>\n",
       "      <th>4</th>\n",
       "      <td>2012.833</td>\n",
       "      <td>5.0</td>\n",
       "      <td>390.56840</td>\n",
       "      <td>5</td>\n",
       "      <td>24.97937</td>\n",
       "      <td>121.54245</td>\n",
       "      <td>43.1</td>\n",
       "    </tr>\n",
       "  </tbody>\n",
       "</table>\n",
       "</div>"
      ],
      "text/plain": [
       "   transaction_date  house_age  distance_to _the _nearest _MRT _station  \\\n",
       "0          2012.917       32.0                                 84.87882   \n",
       "1          2012.917       19.5                                306.59470   \n",
       "2          2013.583       13.3                                561.98450   \n",
       "3          2013.500       13.3                                561.98450   \n",
       "4          2012.833        5.0                                390.56840   \n",
       "\n",
       "   no_of_convenience_stores  latitude  longitude  house_price  \n",
       "0                        10  24.98298  121.54024         37.9  \n",
       "1                         9  24.98034  121.53951         42.2  \n",
       "2                         5  24.98746  121.54391         47.3  \n",
       "3                         5  24.98746  121.54391         54.8  \n",
       "4                         5  24.97937  121.54245         43.1  "
      ]
     },
     "execution_count": 3,
     "metadata": {},
     "output_type": "execute_result"
    }
   ],
   "source": [
    "df.head()"
   ]
  },
  {
   "cell_type": "code",
   "execution_count": null,
   "id": "4b4d4a20",
   "metadata": {},
   "outputs": [],
   "source": []
  },
  {
   "cell_type": "code",
   "execution_count": 4,
   "id": "2de60930",
   "metadata": {},
   "outputs": [
    {
     "name": "stdout",
     "output_type": "stream",
     "text": [
      "0      37.9\n",
      "1      42.2\n",
      "2      47.3\n",
      "3      54.8\n",
      "4      43.1\n",
      "       ... \n",
      "409    15.4\n",
      "410    50.0\n",
      "411    40.6\n",
      "412    52.5\n",
      "413    63.9\n",
      "Name: house_price, Length: 414, dtype: float64\n"
     ]
    }
   ],
   "source": [
    "print(df.house_price)"
   ]
  },
  {
   "cell_type": "code",
   "execution_count": 5,
   "id": "63946e5e",
   "metadata": {},
   "outputs": [
    {
     "data": {
      "text/plain": [
       "transaction_date                           0\n",
       "house_age                                  0\n",
       "distance_to _the _nearest _MRT _station    0\n",
       "no_of_convenience_stores                   0\n",
       "latitude                                   0\n",
       "longitude                                  0\n",
       "house_price                                0\n",
       "dtype: int64"
      ]
     },
     "execution_count": 5,
     "metadata": {},
     "output_type": "execute_result"
    }
   ],
   "source": [
    "df.isnull().sum()"
   ]
  },
  {
   "cell_type": "code",
   "execution_count": 9,
   "id": "d356199c",
   "metadata": {},
   "outputs": [],
   "source": [
    "df_1=df.drop(['transaction_date','latitude','longitude'],axis=1)"
   ]
  },
  {
   "cell_type": "code",
   "execution_count": 10,
   "id": "d7a6170c",
   "metadata": {
    "scrolled": true
   },
   "outputs": [
    {
     "data": {
      "text/plain": [
       "Index(['house_age', 'distance_to _the _nearest _MRT _station',\n",
       "       'no_of_convenience_stores', 'house_price'],\n",
       "      dtype='object')"
      ]
     },
     "execution_count": 10,
     "metadata": {},
     "output_type": "execute_result"
    }
   ],
   "source": [
    "df_1.columns"
   ]
  },
  {
   "cell_type": "code",
   "execution_count": 11,
   "id": "d3acdceb",
   "metadata": {
    "scrolled": true
   },
   "outputs": [
    {
     "data": {
      "text/html": [
       "<div>\n",
       "<style scoped>\n",
       "    .dataframe tbody tr th:only-of-type {\n",
       "        vertical-align: middle;\n",
       "    }\n",
       "\n",
       "    .dataframe tbody tr th {\n",
       "        vertical-align: top;\n",
       "    }\n",
       "\n",
       "    .dataframe thead th {\n",
       "        text-align: right;\n",
       "    }\n",
       "</style>\n",
       "<table border=\"1\" class=\"dataframe\">\n",
       "  <thead>\n",
       "    <tr style=\"text-align: right;\">\n",
       "      <th></th>\n",
       "      <th>house_age</th>\n",
       "      <th>distance_to _the _nearest _MRT _station</th>\n",
       "      <th>no_of_convenience_stores</th>\n",
       "      <th>house_price</th>\n",
       "    </tr>\n",
       "  </thead>\n",
       "  <tbody>\n",
       "    <tr>\n",
       "      <th>count</th>\n",
       "      <td>414.000000</td>\n",
       "      <td>414.000000</td>\n",
       "      <td>414.000000</td>\n",
       "      <td>414.000000</td>\n",
       "    </tr>\n",
       "    <tr>\n",
       "      <th>mean</th>\n",
       "      <td>17.712560</td>\n",
       "      <td>1083.885689</td>\n",
       "      <td>4.094203</td>\n",
       "      <td>37.980193</td>\n",
       "    </tr>\n",
       "    <tr>\n",
       "      <th>std</th>\n",
       "      <td>11.392485</td>\n",
       "      <td>1262.109595</td>\n",
       "      <td>2.945562</td>\n",
       "      <td>13.606488</td>\n",
       "    </tr>\n",
       "    <tr>\n",
       "      <th>min</th>\n",
       "      <td>0.000000</td>\n",
       "      <td>23.382840</td>\n",
       "      <td>0.000000</td>\n",
       "      <td>7.600000</td>\n",
       "    </tr>\n",
       "    <tr>\n",
       "      <th>25%</th>\n",
       "      <td>9.025000</td>\n",
       "      <td>289.324800</td>\n",
       "      <td>1.000000</td>\n",
       "      <td>27.700000</td>\n",
       "    </tr>\n",
       "    <tr>\n",
       "      <th>50%</th>\n",
       "      <td>16.100000</td>\n",
       "      <td>492.231300</td>\n",
       "      <td>4.000000</td>\n",
       "      <td>38.450000</td>\n",
       "    </tr>\n",
       "    <tr>\n",
       "      <th>75%</th>\n",
       "      <td>28.150000</td>\n",
       "      <td>1454.279000</td>\n",
       "      <td>6.000000</td>\n",
       "      <td>46.600000</td>\n",
       "    </tr>\n",
       "    <tr>\n",
       "      <th>max</th>\n",
       "      <td>43.800000</td>\n",
       "      <td>6488.021000</td>\n",
       "      <td>10.000000</td>\n",
       "      <td>117.500000</td>\n",
       "    </tr>\n",
       "  </tbody>\n",
       "</table>\n",
       "</div>"
      ],
      "text/plain": [
       "        house_age  distance_to _the _nearest _MRT _station  \\\n",
       "count  414.000000                               414.000000   \n",
       "mean    17.712560                              1083.885689   \n",
       "std     11.392485                              1262.109595   \n",
       "min      0.000000                                23.382840   \n",
       "25%      9.025000                               289.324800   \n",
       "50%     16.100000                               492.231300   \n",
       "75%     28.150000                              1454.279000   \n",
       "max     43.800000                              6488.021000   \n",
       "\n",
       "       no_of_convenience_stores  house_price  \n",
       "count                414.000000   414.000000  \n",
       "mean                   4.094203    37.980193  \n",
       "std                    2.945562    13.606488  \n",
       "min                    0.000000     7.600000  \n",
       "25%                    1.000000    27.700000  \n",
       "50%                    4.000000    38.450000  \n",
       "75%                    6.000000    46.600000  \n",
       "max                   10.000000   117.500000  "
      ]
     },
     "execution_count": 11,
     "metadata": {},
     "output_type": "execute_result"
    }
   ],
   "source": [
    "df_1.describe()"
   ]
  },
  {
   "cell_type": "code",
   "execution_count": 12,
   "id": "48f6b324",
   "metadata": {},
   "outputs": [
    {
     "data": {
      "text/html": [
       "<div>\n",
       "<style scoped>\n",
       "    .dataframe tbody tr th:only-of-type {\n",
       "        vertical-align: middle;\n",
       "    }\n",
       "\n",
       "    .dataframe tbody tr th {\n",
       "        vertical-align: top;\n",
       "    }\n",
       "\n",
       "    .dataframe thead th {\n",
       "        text-align: right;\n",
       "    }\n",
       "</style>\n",
       "<table border=\"1\" class=\"dataframe\">\n",
       "  <thead>\n",
       "    <tr style=\"text-align: right;\">\n",
       "      <th></th>\n",
       "      <th>house_age</th>\n",
       "      <th>distance_to _the _nearest _MRT _station</th>\n",
       "      <th>no_of_convenience_stores</th>\n",
       "      <th>house_price</th>\n",
       "    </tr>\n",
       "  </thead>\n",
       "  <tbody>\n",
       "    <tr>\n",
       "      <th>house_age</th>\n",
       "      <td>1.000000</td>\n",
       "      <td>0.025622</td>\n",
       "      <td>0.049593</td>\n",
       "      <td>-0.210567</td>\n",
       "    </tr>\n",
       "    <tr>\n",
       "      <th>distance_to _the _nearest _MRT _station</th>\n",
       "      <td>0.025622</td>\n",
       "      <td>1.000000</td>\n",
       "      <td>-0.602519</td>\n",
       "      <td>-0.673613</td>\n",
       "    </tr>\n",
       "    <tr>\n",
       "      <th>no_of_convenience_stores</th>\n",
       "      <td>0.049593</td>\n",
       "      <td>-0.602519</td>\n",
       "      <td>1.000000</td>\n",
       "      <td>0.571005</td>\n",
       "    </tr>\n",
       "    <tr>\n",
       "      <th>house_price</th>\n",
       "      <td>-0.210567</td>\n",
       "      <td>-0.673613</td>\n",
       "      <td>0.571005</td>\n",
       "      <td>1.000000</td>\n",
       "    </tr>\n",
       "  </tbody>\n",
       "</table>\n",
       "</div>"
      ],
      "text/plain": [
       "                                         house_age  \\\n",
       "house_age                                 1.000000   \n",
       "distance_to _the _nearest _MRT _station   0.025622   \n",
       "no_of_convenience_stores                  0.049593   \n",
       "house_price                              -0.210567   \n",
       "\n",
       "                                         distance_to _the _nearest _MRT _station  \\\n",
       "house_age                                                               0.025622   \n",
       "distance_to _the _nearest _MRT _station                                 1.000000   \n",
       "no_of_convenience_stores                                               -0.602519   \n",
       "house_price                                                            -0.673613   \n",
       "\n",
       "                                         no_of_convenience_stores  house_price  \n",
       "house_age                                                0.049593    -0.210567  \n",
       "distance_to _the _nearest _MRT _station                 -0.602519    -0.673613  \n",
       "no_of_convenience_stores                                 1.000000     0.571005  \n",
       "house_price                                              0.571005     1.000000  "
      ]
     },
     "execution_count": 12,
     "metadata": {},
     "output_type": "execute_result"
    }
   ],
   "source": [
    "df_1.corr()"
   ]
  },
  {
   "cell_type": "code",
   "execution_count": 13,
   "id": "88df6edd",
   "metadata": {},
   "outputs": [
    {
     "data": {
      "text/html": [
       "<div>\n",
       "<style scoped>\n",
       "    .dataframe tbody tr th:only-of-type {\n",
       "        vertical-align: middle;\n",
       "    }\n",
       "\n",
       "    .dataframe tbody tr th {\n",
       "        vertical-align: top;\n",
       "    }\n",
       "\n",
       "    .dataframe thead th {\n",
       "        text-align: right;\n",
       "    }\n",
       "</style>\n",
       "<table border=\"1\" class=\"dataframe\">\n",
       "  <thead>\n",
       "    <tr style=\"text-align: right;\">\n",
       "      <th></th>\n",
       "      <th>house_age</th>\n",
       "      <th>distance_to _the _nearest _MRT _station</th>\n",
       "      <th>no_of_convenience_stores</th>\n",
       "      <th>house_price</th>\n",
       "    </tr>\n",
       "  </thead>\n",
       "  <tbody>\n",
       "    <tr>\n",
       "      <th>house_age</th>\n",
       "      <td>129.788704</td>\n",
       "      <td>3.684082e+02</td>\n",
       "      <td>1.664189</td>\n",
       "      <td>-32.640356</td>\n",
       "    </tr>\n",
       "    <tr>\n",
       "      <th>distance_to _the _nearest _MRT _station</th>\n",
       "      <td>368.408249</td>\n",
       "      <td>1.592921e+06</td>\n",
       "      <td>-2239.938319</td>\n",
       "      <td>-11567.871845</td>\n",
       "    </tr>\n",
       "    <tr>\n",
       "      <th>no_of_convenience_stores</th>\n",
       "      <td>1.664189</td>\n",
       "      <td>-2.239938e+03</td>\n",
       "      <td>8.676334</td>\n",
       "      <td>22.885163</td>\n",
       "    </tr>\n",
       "    <tr>\n",
       "      <th>house_price</th>\n",
       "      <td>-32.640356</td>\n",
       "      <td>-1.156787e+04</td>\n",
       "      <td>22.885163</td>\n",
       "      <td>185.136507</td>\n",
       "    </tr>\n",
       "  </tbody>\n",
       "</table>\n",
       "</div>"
      ],
      "text/plain": [
       "                                          house_age  \\\n",
       "house_age                                129.788704   \n",
       "distance_to _the _nearest _MRT _station  368.408249   \n",
       "no_of_convenience_stores                   1.664189   \n",
       "house_price                              -32.640356   \n",
       "\n",
       "                                         distance_to _the _nearest _MRT _station  \\\n",
       "house_age                                                           3.684082e+02   \n",
       "distance_to _the _nearest _MRT _station                             1.592921e+06   \n",
       "no_of_convenience_stores                                           -2.239938e+03   \n",
       "house_price                                                        -1.156787e+04   \n",
       "\n",
       "                                         no_of_convenience_stores  \\\n",
       "house_age                                                1.664189   \n",
       "distance_to _the _nearest _MRT _station              -2239.938319   \n",
       "no_of_convenience_stores                                 8.676334   \n",
       "house_price                                             22.885163   \n",
       "\n",
       "                                          house_price  \n",
       "house_age                                  -32.640356  \n",
       "distance_to _the _nearest _MRT _station -11567.871845  \n",
       "no_of_convenience_stores                    22.885163  \n",
       "house_price                                185.136507  "
      ]
     },
     "execution_count": 13,
     "metadata": {},
     "output_type": "execute_result"
    }
   ],
   "source": [
    "df_1.cov()"
   ]
  },
  {
   "cell_type": "code",
   "execution_count": 14,
   "id": "0a9fcbd0",
   "metadata": {},
   "outputs": [
    {
     "data": {
      "image/png": "[encoded data removed]",
      "text/plain": [
       "<Figure size 432x288 with 1 Axes>"
      ]
     },
     "metadata": {
      "needs_background": "light"
     },
     "output_type": "display_data"
    }
   ],
   "source": [
    "sns.countplot(x = 'no_of_convenience_stores', data = df_1)\n",
    "plt.tight_layout(rect=(0, 0, 2.5, 2.5)) "
   ]
  },
  {
   "cell_type": "code",
   "execution_count": 15,
   "id": "c19c9210",
   "metadata": {},
   "outputs": [
    {
     "data": {
      "image/png": "[encoded data removed]",
      "text/plain": [
       "<Figure size 720x504 with 2 Axes>"
      ]
     },
     "metadata": {
      "needs_background": "light"
     },
     "output_type": "display_data"
    }
   ],
   "source": [
    "df.plot(kind=\"scatter\", x=\"longitude\", y=\"latitude\",\n",
    "    s=df[\"house_price\"], label=\"house price of unit area\",\n",
    "    c='house_price', cmap=plt.get_cmap(\"jet\"),\n",
    "    colorbar=True, alpha=0.4, figsize=(10,7),\n",
    ")\n",
    "plt.legend()\n",
    "plt.show()"
   ]
  },
  {
   "cell_type": "code",
   "execution_count": 95,
   "id": "e0594e48",
   "metadata": {},
   "outputs": [
    {
     "data": {
      "text/plain": [
       "<seaborn.axisgrid.PairGrid at 0x26da6dc33d0>"
      ]
     },
     "execution_count": 95,
     "metadata": {},
     "output_type": "execute_result"
    },
    {
     "data": {
      "image/png": "[encoded data removed]",
      "text/plain": [
       "<Figure size 720x720 with 20 Axes>"
      ]
     },
     "metadata": {
      "needs_background": "light"
     },
     "output_type": "display_data"
    }
   ],
   "source": [
    "sns.pairplot(df_1)"
   ]
  },
  {
   "cell_type": "code",
   "execution_count": 17,
   "id": "3f42aae5",
   "metadata": {},
   "outputs": [],
   "source": [
    "import math"
   ]
  },
  {
   "cell_type": "code",
   "execution_count": 18,
   "id": "01881838",
   "metadata": {},
   "outputs": [
    {
     "data": {
      "text/plain": [
       "0      1.928799\n",
       "1      2.486565\n",
       "2      2.749724\n",
       "3      2.749724\n",
       "4      2.591697\n",
       "         ...   \n",
       "409    3.610875\n",
       "410    1.956438\n",
       "411    2.592143\n",
       "412    2.020403\n",
       "413    1.956438\n",
       "Name: distance_to _the _nearest _MRT _station, Length: 414, dtype: float64"
      ]
     },
     "execution_count": 18,
     "metadata": {},
     "output_type": "execute_result"
    }
   ],
   "source": [
    "a=np.log10(df_1['distance_to _the _nearest _MRT _station'])\n",
    "a"
   ]
  },
  {
   "cell_type": "code",
   "execution_count": 19,
   "id": "68794963",
   "metadata": {},
   "outputs": [],
   "source": [
    "df_1['distance_to _the _nearest _MRT _station']=a"
   ]
  },
  {
   "cell_type": "code",
   "execution_count": 20,
   "id": "8ffa4667",
   "metadata": {},
   "outputs": [
    {
     "data": {
      "text/html": [
       "<div>\n",
       "<style scoped>\n",
       "    .dataframe tbody tr th:only-of-type {\n",
       "        vertical-align: middle;\n",
       "    }\n",
       "\n",
       "    .dataframe tbody tr th {\n",
       "        vertical-align: top;\n",
       "    }\n",
       "\n",
       "    .dataframe thead th {\n",
       "        text-align: right;\n",
       "    }\n",
       "</style>\n",
       "<table border=\"1\" class=\"dataframe\">\n",
       "  <thead>\n",
       "    <tr style=\"text-align: right;\">\n",
       "      <th></th>\n",
       "      <th>house_age</th>\n",
       "      <th>distance_to _the _nearest _MRT _station</th>\n",
       "      <th>no_of_convenience_stores</th>\n",
       "      <th>house_price</th>\n",
       "    </tr>\n",
       "  </thead>\n",
       "  <tbody>\n",
       "    <tr>\n",
       "      <th>0</th>\n",
       "      <td>32.0</td>\n",
       "      <td>1.928799</td>\n",
       "      <td>10</td>\n",
       "      <td>37.9</td>\n",
       "    </tr>\n",
       "    <tr>\n",
       "      <th>1</th>\n",
       "      <td>19.5</td>\n",
       "      <td>2.486565</td>\n",
       "      <td>9</td>\n",
       "      <td>42.2</td>\n",
       "    </tr>\n",
       "    <tr>\n",
       "      <th>2</th>\n",
       "      <td>13.3</td>\n",
       "      <td>2.749724</td>\n",
       "      <td>5</td>\n",
       "      <td>47.3</td>\n",
       "    </tr>\n",
       "    <tr>\n",
       "      <th>3</th>\n",
       "      <td>13.3</td>\n",
       "      <td>2.749724</td>\n",
       "      <td>5</td>\n",
       "      <td>54.8</td>\n",
       "    </tr>\n",
       "    <tr>\n",
       "      <th>4</th>\n",
       "      <td>5.0</td>\n",
       "      <td>2.591697</td>\n",
       "      <td>5</td>\n",
       "      <td>43.1</td>\n",
       "    </tr>\n",
       "  </tbody>\n",
       "</table>\n",
       "</div>"
      ],
      "text/plain": [
       "   house_age  distance_to _the _nearest _MRT _station  \\\n",
       "0       32.0                                 1.928799   \n",
       "1       19.5                                 2.486565   \n",
       "2       13.3                                 2.749724   \n",
       "3       13.3                                 2.749724   \n",
       "4        5.0                                 2.591697   \n",
       "\n",
       "   no_of_convenience_stores  house_price  \n",
       "0                        10         37.9  \n",
       "1                         9         42.2  \n",
       "2                         5         47.3  \n",
       "3                         5         54.8  \n",
       "4                         5         43.1  "
      ]
     },
     "execution_count": 20,
     "metadata": {},
     "output_type": "execute_result"
    }
   ],
   "source": [
    "df_1.head()"
   ]
  },
  {
   "cell_type": "code",
   "execution_count": 21,
   "id": "210c1320",
   "metadata": {},
   "outputs": [
    {
     "name": "stderr",
     "output_type": "stream",
     "text": [
      "C:\\Users\\bhave\\anaconda3\\lib\\site-packages\\seaborn\\distributions.py:2619: FutureWarning: `distplot` is a deprecated function and will be removed in a future version. Please adapt your code to use either `displot` (a figure-level function with similar flexibility) or `histplot` (an axes-level function for histograms).\n",
      "  warnings.warn(msg, FutureWarning)\n"
     ]
    },
    {
     "data": {
      "text/plain": [
       "<AxesSubplot:xlabel='distance_to _the _nearest _MRT _station', ylabel='Density'>"
      ]
     },
     "execution_count": 21,
     "metadata": {},
     "output_type": "execute_result"
    },
    {
     "data": {
      "image/png": "[encoded data removed]",
      "text/plain": [
       "<Figure size 432x288 with 1 Axes>"
      ]
     },
     "metadata": {
      "needs_background": "light"
     },
     "output_type": "display_data"
    }
   ],
   "source": [
    "sns.distplot(df_1['distance_to _the _nearest _MRT _station'])"
   ]
  },
  {
   "cell_type": "code",
   "execution_count": 22,
   "id": "381b74b1",
   "metadata": {},
   "outputs": [
    {
     "data": {
      "text/html": [
       "<div>\n",
       "<style scoped>\n",
       "    .dataframe tbody tr th:only-of-type {\n",
       "        vertical-align: middle;\n",
       "    }\n",
       "\n",
       "    .dataframe tbody tr th {\n",
       "        vertical-align: top;\n",
       "    }\n",
       "\n",
       "    .dataframe thead th {\n",
       "        text-align: right;\n",
       "    }\n",
       "</style>\n",
       "<table border=\"1\" class=\"dataframe\">\n",
       "  <thead>\n",
       "    <tr style=\"text-align: right;\">\n",
       "      <th></th>\n",
       "      <th>house_age</th>\n",
       "      <th>distance_to _the _nearest _MRT _station</th>\n",
       "      <th>no_of_convenience_stores</th>\n",
       "      <th>house_price</th>\n",
       "    </tr>\n",
       "  </thead>\n",
       "  <tbody>\n",
       "    <tr>\n",
       "      <th>house_age</th>\n",
       "      <td>1.000000</td>\n",
       "      <td>0.067322</td>\n",
       "      <td>0.049593</td>\n",
       "      <td>-0.210567</td>\n",
       "    </tr>\n",
       "    <tr>\n",
       "      <th>distance_to _the _nearest _MRT _station</th>\n",
       "      <td>0.067322</td>\n",
       "      <td>1.000000</td>\n",
       "      <td>-0.685516</td>\n",
       "      <td>-0.734339</td>\n",
       "    </tr>\n",
       "    <tr>\n",
       "      <th>no_of_convenience_stores</th>\n",
       "      <td>0.049593</td>\n",
       "      <td>-0.685516</td>\n",
       "      <td>1.000000</td>\n",
       "      <td>0.571005</td>\n",
       "    </tr>\n",
       "    <tr>\n",
       "      <th>house_price</th>\n",
       "      <td>-0.210567</td>\n",
       "      <td>-0.734339</td>\n",
       "      <td>0.571005</td>\n",
       "      <td>1.000000</td>\n",
       "    </tr>\n",
       "  </tbody>\n",
       "</table>\n",
       "</div>"
      ],
      "text/plain": [
       "                                         house_age  \\\n",
       "house_age                                 1.000000   \n",
       "distance_to _the _nearest _MRT _station   0.067322   \n",
       "no_of_convenience_stores                  0.049593   \n",
       "house_price                              -0.210567   \n",
       "\n",
       "                                         distance_to _the _nearest _MRT _station  \\\n",
       "house_age                                                               0.067322   \n",
       "distance_to _the _nearest _MRT _station                                 1.000000   \n",
       "no_of_convenience_stores                                               -0.685516   \n",
       "house_price                                                            -0.734339   \n",
       "\n",
       "                                         no_of_convenience_stores  house_price  \n",
       "house_age                                                0.049593    -0.210567  \n",
       "distance_to _the _nearest _MRT _station                 -0.685516    -0.734339  \n",
       "no_of_convenience_stores                                 1.000000     0.571005  \n",
       "house_price                                              0.571005     1.000000  "
      ]
     },
     "execution_count": 22,
     "metadata": {},
     "output_type": "execute_result"
    }
   ],
   "source": [
    "df_1.corr()"
   ]
  },
  {
   "cell_type": "markdown",
   "id": "e6f7b56a",
   "metadata": {},
   "source": [
    "#### The Pearson correlation coefficient also known as the product-moment correlation coefficient\n",
    "#### is a measure of the linear association between two variables X and Y. It has a value between -1 and 1 where:"
   ]
  },
  {
   "cell_type": "code",
   "execution_count": 23,
   "id": "3518e93c",
   "metadata": {},
   "outputs": [
    {
     "data": {
      "text/plain": [
       "<AxesSubplot:>"
      ]
     },
     "execution_count": 23,
     "metadata": {},
     "output_type": "execute_result"
    },
    {
     "data": {
      "image/png": "[encoded data removed]",
      "text/plain": [
       "<Figure size 432x288 with 2 Axes>"
      ]
     },
     "metadata": {
      "needs_background": "light"
     },
     "output_type": "display_data"
    }
   ],
   "source": [
    "sns.heatmap(df_1.corr(),annot=True)"
   ]
  },
  {
   "cell_type": "code",
   "execution_count": 27,
   "id": "1cc98dc4",
   "metadata": {},
   "outputs": [],
   "source": [
    "y=df_1['house_price']\n",
    "X=df_1[['house_age','distance_to _the _nearest _MRT _station','no_of_convenience_stores']]"
   ]
  },
  {
   "cell_type": "code",
   "execution_count": 28,
   "id": "fedadedb",
   "metadata": {},
   "outputs": [
    {
     "data": {
      "text/html": [
       "<div>\n",
       "<style scoped>\n",
       "    .dataframe tbody tr th:only-of-type {\n",
       "        vertical-align: middle;\n",
       "    }\n",
       "\n",
       "    .dataframe tbody tr th {\n",
       "        vertical-align: top;\n",
       "    }\n",
       "\n",
       "    .dataframe thead th {\n",
       "        text-align: right;\n",
       "    }\n",
       "</style>\n",
       "<table border=\"1\" class=\"dataframe\">\n",
       "  <thead>\n",
       "    <tr style=\"text-align: right;\">\n",
       "      <th></th>\n",
       "      <th>house_age</th>\n",
       "      <th>distance_to _the _nearest _MRT _station</th>\n",
       "      <th>no_of_convenience_stores</th>\n",
       "    </tr>\n",
       "  </thead>\n",
       "  <tbody>\n",
       "    <tr>\n",
       "      <th>0</th>\n",
       "      <td>32.0</td>\n",
       "      <td>1.928799</td>\n",
       "      <td>10</td>\n",
       "    </tr>\n",
       "    <tr>\n",
       "      <th>1</th>\n",
       "      <td>19.5</td>\n",
       "      <td>2.486565</td>\n",
       "      <td>9</td>\n",
       "    </tr>\n",
       "    <tr>\n",
       "      <th>2</th>\n",
       "      <td>13.3</td>\n",
       "      <td>2.749724</td>\n",
       "      <td>5</td>\n",
       "    </tr>\n",
       "    <tr>\n",
       "      <th>3</th>\n",
       "      <td>13.3</td>\n",
       "      <td>2.749724</td>\n",
       "      <td>5</td>\n",
       "    </tr>\n",
       "    <tr>\n",
       "      <th>4</th>\n",
       "      <td>5.0</td>\n",
       "      <td>2.591697</td>\n",
       "      <td>5</td>\n",
       "    </tr>\n",
       "    <tr>\n",
       "      <th>...</th>\n",
       "      <td>...</td>\n",
       "      <td>...</td>\n",
       "      <td>...</td>\n",
       "    </tr>\n",
       "    <tr>\n",
       "      <th>409</th>\n",
       "      <td>13.7</td>\n",
       "      <td>3.610875</td>\n",
       "      <td>0</td>\n",
       "    </tr>\n",
       "    <tr>\n",
       "      <th>410</th>\n",
       "      <td>5.6</td>\n",
       "      <td>1.956438</td>\n",
       "      <td>9</td>\n",
       "    </tr>\n",
       "    <tr>\n",
       "      <th>411</th>\n",
       "      <td>18.8</td>\n",
       "      <td>2.592143</td>\n",
       "      <td>7</td>\n",
       "    </tr>\n",
       "    <tr>\n",
       "      <th>412</th>\n",
       "      <td>8.1</td>\n",
       "      <td>2.020403</td>\n",
       "      <td>5</td>\n",
       "    </tr>\n",
       "    <tr>\n",
       "      <th>413</th>\n",
       "      <td>6.5</td>\n",
       "      <td>1.956438</td>\n",
       "      <td>9</td>\n",
       "    </tr>\n",
       "  </tbody>\n",
       "</table>\n",
       "<p>414 rows × 3 columns</p>\n",
       "</div>"
      ],
      "text/plain": [
       "     house_age  distance_to _the _nearest _MRT _station  \\\n",
       "0         32.0                                 1.928799   \n",
       "1         19.5                                 2.486565   \n",
       "2         13.3                                 2.749724   \n",
       "3         13.3                                 2.749724   \n",
       "4          5.0                                 2.591697   \n",
       "..         ...                                      ...   \n",
       "409       13.7                                 3.610875   \n",
       "410        5.6                                 1.956438   \n",
       "411       18.8                                 2.592143   \n",
       "412        8.1                                 2.020403   \n",
       "413        6.5                                 1.956438   \n",
       "\n",
       "     no_of_convenience_stores  \n",
       "0                          10  \n",
       "1                           9  \n",
       "2                           5  \n",
       "3                           5  \n",
       "4                           5  \n",
       "..                        ...  \n",
       "409                         0  \n",
       "410                         9  \n",
       "411                         7  \n",
       "412                         5  \n",
       "413                         9  \n",
       "\n",
       "[414 rows x 3 columns]"
      ]
     },
     "execution_count": 28,
     "metadata": {},
     "output_type": "execute_result"
    }
   ],
   "source": [
    "X"
   ]
  },
  {
   "cell_type": "code",
   "execution_count": 29,
   "id": "4e867bc0",
   "metadata": {},
   "outputs": [
    {
     "data": {
      "text/plain": [
       "0      37.9\n",
       "1      42.2\n",
       "2      47.3\n",
       "3      54.8\n",
       "4      43.1\n",
       "       ... \n",
       "409    15.4\n",
       "410    50.0\n",
       "411    40.6\n",
       "412    52.5\n",
       "413    63.9\n",
       "Name: house_price, Length: 414, dtype: float64"
      ]
     },
     "execution_count": 29,
     "metadata": {},
     "output_type": "execute_result"
    }
   ],
   "source": [
    "y"
   ]
  },
  {
   "cell_type": "code",
   "execution_count": 30,
   "id": "f224541a",
   "metadata": {},
   "outputs": [],
   "source": [
    "from sklearn.model_selection import train_test_split"
   ]
  },
  {
   "cell_type": "code",
   "execution_count": 31,
   "id": "7db81205",
   "metadata": {},
   "outputs": [],
   "source": [
    "X_train, X_test, y_train, y_test = train_test_split(X, y, test_size=0.2, random_state=1)"
   ]
  },
  {
   "cell_type": "code",
   "execution_count": 32,
   "id": "ebb7e3e5",
   "metadata": {},
   "outputs": [
    {
     "data": {
      "text/html": [
       "<div>\n",
       "<style scoped>\n",
       "    .dataframe tbody tr th:only-of-type {\n",
       "        vertical-align: middle;\n",
       "    }\n",
       "\n",
       "    .dataframe tbody tr th {\n",
       "        vertical-align: top;\n",
       "    }\n",
       "\n",
       "    .dataframe thead th {\n",
       "        text-align: right;\n",
       "    }\n",
       "</style>\n",
       "<table border=\"1\" class=\"dataframe\">\n",
       "  <thead>\n",
       "    <tr style=\"text-align: right;\">\n",
       "      <th></th>\n",
       "      <th>house_age</th>\n",
       "      <th>distance_to _the _nearest _MRT _station</th>\n",
       "      <th>no_of_convenience_stores</th>\n",
       "    </tr>\n",
       "  </thead>\n",
       "  <tbody>\n",
       "    <tr>\n",
       "      <th>159</th>\n",
       "      <td>15.5</td>\n",
       "      <td>2.911654</td>\n",
       "      <td>4</td>\n",
       "    </tr>\n",
       "    <tr>\n",
       "      <th>95</th>\n",
       "      <td>8.0</td>\n",
       "      <td>2.020403</td>\n",
       "      <td>5</td>\n",
       "    </tr>\n",
       "    <tr>\n",
       "      <th>11</th>\n",
       "      <td>6.3</td>\n",
       "      <td>1.956438</td>\n",
       "      <td>9</td>\n",
       "    </tr>\n",
       "    <tr>\n",
       "      <th>374</th>\n",
       "      <td>5.4</td>\n",
       "      <td>2.591697</td>\n",
       "      <td>5</td>\n",
       "    </tr>\n",
       "    <tr>\n",
       "      <th>165</th>\n",
       "      <td>13.7</td>\n",
       "      <td>3.092217</td>\n",
       "      <td>1</td>\n",
       "    </tr>\n",
       "    <tr>\n",
       "      <th>...</th>\n",
       "      <td>...</td>\n",
       "      <td>...</td>\n",
       "      <td>...</td>\n",
       "    </tr>\n",
       "    <tr>\n",
       "      <th>255</th>\n",
       "      <td>31.5</td>\n",
       "      <td>3.741312</td>\n",
       "      <td>1</td>\n",
       "    </tr>\n",
       "    <tr>\n",
       "      <th>72</th>\n",
       "      <td>32.5</td>\n",
       "      <td>2.627923</td>\n",
       "      <td>8</td>\n",
       "    </tr>\n",
       "    <tr>\n",
       "      <th>396</th>\n",
       "      <td>37.1</td>\n",
       "      <td>2.963143</td>\n",
       "      <td>1</td>\n",
       "    </tr>\n",
       "    <tr>\n",
       "      <th>235</th>\n",
       "      <td>12.9</td>\n",
       "      <td>2.399035</td>\n",
       "      <td>7</td>\n",
       "    </tr>\n",
       "    <tr>\n",
       "      <th>37</th>\n",
       "      <td>12.0</td>\n",
       "      <td>3.133583</td>\n",
       "      <td>1</td>\n",
       "    </tr>\n",
       "  </tbody>\n",
       "</table>\n",
       "<p>331 rows × 3 columns</p>\n",
       "</div>"
      ],
      "text/plain": [
       "     house_age  distance_to _the _nearest _MRT _station  \\\n",
       "159       15.5                                 2.911654   \n",
       "95         8.0                                 2.020403   \n",
       "11         6.3                                 1.956438   \n",
       "374        5.4                                 2.591697   \n",
       "165       13.7                                 3.092217   \n",
       "..         ...                                      ...   \n",
       "255       31.5                                 3.741312   \n",
       "72        32.5                                 2.627923   \n",
       "396       37.1                                 2.963143   \n",
       "235       12.9                                 2.399035   \n",
       "37        12.0                                 3.133583   \n",
       "\n",
       "     no_of_convenience_stores  \n",
       "159                         4  \n",
       "95                          5  \n",
       "11                          9  \n",
       "374                         5  \n",
       "165                         1  \n",
       "..                        ...  \n",
       "255                         1  \n",
       "72                          8  \n",
       "396                         1  \n",
       "235                         7  \n",
       "37                          1  \n",
       "\n",
       "[331 rows x 3 columns]"
      ]
     },
     "execution_count": 32,
     "metadata": {},
     "output_type": "execute_result"
    }
   ],
   "source": [
    "X_train"
   ]
  },
  {
   "cell_type": "code",
   "execution_count": 33,
   "id": "349937a8",
   "metadata": {},
   "outputs": [
    {
     "data": {
      "text/plain": [
       "159    37.4\n",
       "95     51.8\n",
       "11     58.1\n",
       "374    49.5\n",
       "165    30.6\n",
       "       ... \n",
       "255    17.4\n",
       "72     36.3\n",
       "396    31.9\n",
       "235    39.3\n",
       "37     25.3\n",
       "Name: house_price, Length: 331, dtype: float64"
      ]
     },
     "execution_count": 33,
     "metadata": {},
     "output_type": "execute_result"
    }
   ],
   "source": [
    "y_train"
   ]
  },
  {
   "cell_type": "code",
   "execution_count": 34,
   "id": "d141f334",
   "metadata": {},
   "outputs": [
    {
     "data": {
      "text/html": [
       "<div>\n",
       "<style scoped>\n",
       "    .dataframe tbody tr th:only-of-type {\n",
       "        vertical-align: middle;\n",
       "    }\n",
       "\n",
       "    .dataframe tbody tr th {\n",
       "        vertical-align: top;\n",
       "    }\n",
       "\n",
       "    .dataframe thead th {\n",
       "        text-align: right;\n",
       "    }\n",
       "</style>\n",
       "<table border=\"1\" class=\"dataframe\">\n",
       "  <thead>\n",
       "    <tr style=\"text-align: right;\">\n",
       "      <th></th>\n",
       "      <th>house_age</th>\n",
       "      <th>distance_to _the _nearest _MRT _station</th>\n",
       "      <th>no_of_convenience_stores</th>\n",
       "    </tr>\n",
       "  </thead>\n",
       "  <tbody>\n",
       "    <tr>\n",
       "      <th>388</th>\n",
       "      <td>10.4</td>\n",
       "      <td>3.352556</td>\n",
       "      <td>4</td>\n",
       "    </tr>\n",
       "    <tr>\n",
       "      <th>102</th>\n",
       "      <td>1.1</td>\n",
       "      <td>2.286871</td>\n",
       "      <td>6</td>\n",
       "    </tr>\n",
       "    <tr>\n",
       "      <th>187</th>\n",
       "      <td>8.9</td>\n",
       "      <td>3.488293</td>\n",
       "      <td>0</td>\n",
       "    </tr>\n",
       "    <tr>\n",
       "      <th>162</th>\n",
       "      <td>16.0</td>\n",
       "      <td>3.609230</td>\n",
       "      <td>0</td>\n",
       "    </tr>\n",
       "    <tr>\n",
       "      <th>90</th>\n",
       "      <td>0.0</td>\n",
       "      <td>2.437773</td>\n",
       "      <td>1</td>\n",
       "    </tr>\n",
       "    <tr>\n",
       "      <th>...</th>\n",
       "      <td>...</td>\n",
       "      <td>...</td>\n",
       "      <td>...</td>\n",
       "    </tr>\n",
       "    <tr>\n",
       "      <th>322</th>\n",
       "      <td>12.9</td>\n",
       "      <td>2.272960</td>\n",
       "      <td>1</td>\n",
       "    </tr>\n",
       "    <tr>\n",
       "      <th>119</th>\n",
       "      <td>16.6</td>\n",
       "      <td>2.461386</td>\n",
       "      <td>5</td>\n",
       "    </tr>\n",
       "    <tr>\n",
       "      <th>245</th>\n",
       "      <td>7.5</td>\n",
       "      <td>2.805922</td>\n",
       "      <td>5</td>\n",
       "    </tr>\n",
       "    <tr>\n",
       "      <th>146</th>\n",
       "      <td>0.0</td>\n",
       "      <td>2.268179</td>\n",
       "      <td>0</td>\n",
       "    </tr>\n",
       "    <tr>\n",
       "      <th>360</th>\n",
       "      <td>32.9</td>\n",
       "      <td>1.941025</td>\n",
       "      <td>10</td>\n",
       "    </tr>\n",
       "  </tbody>\n",
       "</table>\n",
       "<p>83 rows × 3 columns</p>\n",
       "</div>"
      ],
      "text/plain": [
       "     house_age  distance_to _the _nearest _MRT _station  \\\n",
       "388       10.4                                 3.352556   \n",
       "102        1.1                                 2.286871   \n",
       "187        8.9                                 3.488293   \n",
       "162       16.0                                 3.609230   \n",
       "90         0.0                                 2.437773   \n",
       "..         ...                                      ...   \n",
       "322       12.9                                 2.272960   \n",
       "119       16.6                                 2.461386   \n",
       "245        7.5                                 2.805922   \n",
       "146        0.0                                 2.268179   \n",
       "360       32.9                                 1.941025   \n",
       "\n",
       "     no_of_convenience_stores  \n",
       "388                         4  \n",
       "102                         6  \n",
       "187                         0  \n",
       "162                         0  \n",
       "90                          1  \n",
       "..                        ...  \n",
       "322                         1  \n",
       "119                         5  \n",
       "245                         5  \n",
       "146                         0  \n",
       "360                        10  \n",
       "\n",
       "[83 rows x 3 columns]"
      ]
     },
     "execution_count": 34,
     "metadata": {},
     "output_type": "execute_result"
    }
   ],
   "source": [
    "X_test"
   ]
  },
  {
   "cell_type": "code",
   "execution_count": 35,
   "id": "9b3729a1",
   "metadata": {},
   "outputs": [
    {
     "data": {
      "text/plain": [
       "388    27.3\n",
       "102    54.4\n",
       "187    22.0\n",
       "162    11.6\n",
       "90     45.4\n",
       "       ... \n",
       "322    33.1\n",
       "119    59.6\n",
       "245    40.8\n",
       "146    52.2\n",
       "360    47.1\n",
       "Name: house_price, Length: 83, dtype: float64"
      ]
     },
     "execution_count": 35,
     "metadata": {},
     "output_type": "execute_result"
    }
   ],
   "source": [
    "y_test"
   ]
  },
  {
   "cell_type": "code",
   "execution_count": 36,
   "id": "e7b3863f",
   "metadata": {},
   "outputs": [],
   "source": [
    "from sklearn.preprocessing import MinMaxScaler\n",
    "scaler= MinMaxScaler()\n",
    "X_train = scaler.fit_transform(X_train)\n",
    "X_test = scaler.fit_transform(X_test)"
   ]
  },
  {
   "cell_type": "code",
   "execution_count": 37,
   "id": "a49779c1",
   "metadata": {},
   "outputs": [],
   "source": [
    "from sklearn.linear_model import LinearRegression"
   ]
  },
  {
   "cell_type": "code",
   "execution_count": 38,
   "id": "8136ee52",
   "metadata": {},
   "outputs": [],
   "source": [
    "lm = LinearRegression()"
   ]
  },
  {
   "cell_type": "code",
   "execution_count": 39,
   "id": "8ff83f50",
   "metadata": {},
   "outputs": [
    {
     "data": {
      "text/plain": [
       "LinearRegression()"
      ]
     },
     "execution_count": 39,
     "metadata": {},
     "output_type": "execute_result"
    }
   ],
   "source": [
    "lm.fit(X_train,y_train)"
   ]
  },
  {
   "cell_type": "code",
   "execution_count": 40,
   "id": "0bc087f6",
   "metadata": {},
   "outputs": [
    {
     "name": "stdout",
     "output_type": "stream",
     "text": [
      "63.95692363461278\n"
     ]
    }
   ],
   "source": [
    "print(lm.intercept_)"
   ]
  },
  {
   "cell_type": "code",
   "execution_count": 93,
   "id": "067496ce",
   "metadata": {},
   "outputs": [
    {
     "name": "stdout",
     "output_type": "stream",
     "text": [
      "[ -7.83313058 -43.16391045   6.6486809 ]\n"
     ]
    }
   ],
   "source": [
    "print(lm.coef_)"
   ]
  },
  {
   "cell_type": "code",
   "execution_count": 94,
   "id": "fd96962e",
   "metadata": {
    "scrolled": true
   },
   "outputs": [
    {
     "data": {
      "text/html": [
       "<div>\n",
       "<style scoped>\n",
       "    .dataframe tbody tr th:only-of-type {\n",
       "        vertical-align: middle;\n",
       "    }\n",
       "\n",
       "    .dataframe tbody tr th {\n",
       "        vertical-align: top;\n",
       "    }\n",
       "\n",
       "    .dataframe thead th {\n",
       "        text-align: right;\n",
       "    }\n",
       "</style>\n",
       "<table border=\"1\" class=\"dataframe\">\n",
       "  <thead>\n",
       "    <tr style=\"text-align: right;\">\n",
       "      <th></th>\n",
       "      <th>Coefficient</th>\n",
       "    </tr>\n",
       "  </thead>\n",
       "  <tbody>\n",
       "    <tr>\n",
       "      <th>house_age</th>\n",
       "      <td>-7.833131</td>\n",
       "    </tr>\n",
       "    <tr>\n",
       "      <th>distance_to _the _nearest _MRT _station</th>\n",
       "      <td>-43.163910</td>\n",
       "    </tr>\n",
       "    <tr>\n",
       "      <th>no_of_convenience_stores</th>\n",
       "      <td>6.648681</td>\n",
       "    </tr>\n",
       "  </tbody>\n",
       "</table>\n",
       "</div>"
      ],
      "text/plain": [
       "                                         Coefficient\n",
       "house_age                                  -7.833131\n",
       "distance_to _the _nearest _MRT _station   -43.163910\n",
       "no_of_convenience_stores                    6.648681"
      ]
     },
     "execution_count": 94,
     "metadata": {},
     "output_type": "execute_result"
    }
   ],
   "source": [
    "coeff_df = pd.DataFrame(lm.coef_,X.columns,columns=['Coefficient'])\n",
    "coeff_df"
   ]
  },
  {
   "cell_type": "code",
   "execution_count": 45,
   "id": "16baaed9",
   "metadata": {},
   "outputs": [
    {
     "data": {
      "text/plain": [
       "array([28.46769715, 55.74910654, 22.98284577, 18.95677663, 49.18220209,\n",
       "       29.05235355, 26.73110705, 34.50980382, 43.57010305, 16.03907176,\n",
       "       16.82788068, 43.81928905, 31.2920191 , 56.29011633, 64.41631482,\n",
       "       28.7359367 , 49.18220209, 42.47200885, 26.92682189, 48.4599839 ,\n",
       "       63.72861446, 25.73010736, 41.56159839, 52.21645539, 45.63443989,\n",
       "       29.71436444, 28.73694553, 59.83399942, 47.43934422, 18.79410851,\n",
       "       30.10364736, 34.84991611, 39.05362339, 59.90553486, 54.40967545,\n",
       "       19.07272115, 41.47888159, 41.43592707, 30.73126428, 18.90312506,\n",
       "       38.86393817, 28.64670853, 64.2911278 , 29.41800057, 29.34693677,\n",
       "       32.43909785, 28.37802685, 41.1870386 , 45.78059778, 34.68361841,\n",
       "       19.09060501, 54.53365297, 54.18090682, 19.3306243 , 52.39555892,\n",
       "       49.4566767 , 49.18220209, 37.51906796, 44.45795216, 43.73661877,\n",
       "       28.53901821, 51.62866476, 29.30899541, 19.07272115, 42.01661719,\n",
       "       45.46055768, 60.77786969, 47.89124518, 19.34850816, 41.30802466,\n",
       "       48.8176611 , 16.11723355, 36.07523854, 45.07529137, 64.46996639,\n",
       "       55.69836227, 38.47215389, 37.55483568, 50.63150606, 48.33479688,\n",
       "       42.10976433, 52.38262639, 60.60381051])"
      ]
     },
     "execution_count": 45,
     "metadata": {},
     "output_type": "execute_result"
    }
   ],
   "source": [
    "y_pred= lm.predict(X_test)\n",
    "y_pred"
   ]
  },
  {
   "cell_type": "code",
   "execution_count": 92,
   "id": "1cfeeb6a",
   "metadata": {},
   "outputs": [
    {
     "data": {
      "text/html": [
       "<div>\n",
       "<style scoped>\n",
       "    .dataframe tbody tr th:only-of-type {\n",
       "        vertical-align: middle;\n",
       "    }\n",
       "\n",
       "    .dataframe tbody tr th {\n",
       "        vertical-align: top;\n",
       "    }\n",
       "\n",
       "    .dataframe thead th {\n",
       "        text-align: right;\n",
       "    }\n",
       "</style>\n",
       "<table border=\"1\" class=\"dataframe\">\n",
       "  <thead>\n",
       "    <tr style=\"text-align: right;\">\n",
       "      <th></th>\n",
       "      <th>Actual</th>\n",
       "      <th>Predicted</th>\n",
       "    </tr>\n",
       "  </thead>\n",
       "  <tbody>\n",
       "    <tr>\n",
       "      <th>0</th>\n",
       "      <td>27.3</td>\n",
       "      <td>28.467697</td>\n",
       "    </tr>\n",
       "    <tr>\n",
       "      <th>1</th>\n",
       "      <td>54.4</td>\n",
       "      <td>55.749107</td>\n",
       "    </tr>\n",
       "    <tr>\n",
       "      <th>2</th>\n",
       "      <td>22.0</td>\n",
       "      <td>22.982846</td>\n",
       "    </tr>\n",
       "    <tr>\n",
       "      <th>3</th>\n",
       "      <td>11.6</td>\n",
       "      <td>18.956777</td>\n",
       "    </tr>\n",
       "    <tr>\n",
       "      <th>4</th>\n",
       "      <td>45.4</td>\n",
       "      <td>49.182202</td>\n",
       "    </tr>\n",
       "    <tr>\n",
       "      <th>...</th>\n",
       "      <td>...</td>\n",
       "      <td>...</td>\n",
       "    </tr>\n",
       "    <tr>\n",
       "      <th>78</th>\n",
       "      <td>33.1</td>\n",
       "      <td>50.631506</td>\n",
       "    </tr>\n",
       "    <tr>\n",
       "      <th>79</th>\n",
       "      <td>59.6</td>\n",
       "      <td>48.334797</td>\n",
       "    </tr>\n",
       "    <tr>\n",
       "      <th>80</th>\n",
       "      <td>40.8</td>\n",
       "      <td>42.109764</td>\n",
       "    </tr>\n",
       "    <tr>\n",
       "      <th>81</th>\n",
       "      <td>52.2</td>\n",
       "      <td>52.382626</td>\n",
       "    </tr>\n",
       "    <tr>\n",
       "      <th>82</th>\n",
       "      <td>47.1</td>\n",
       "      <td>60.603811</td>\n",
       "    </tr>\n",
       "  </tbody>\n",
       "</table>\n",
       "<p>83 rows × 2 columns</p>\n",
       "</div>"
      ],
      "text/plain": [
       "    Actual  Predicted\n",
       "0     27.3  28.467697\n",
       "1     54.4  55.749107\n",
       "2     22.0  22.982846\n",
       "3     11.6  18.956777\n",
       "4     45.4  49.182202\n",
       "..     ...        ...\n",
       "78    33.1  50.631506\n",
       "79    59.6  48.334797\n",
       "80    40.8  42.109764\n",
       "81    52.2  52.382626\n",
       "82    47.1  60.603811\n",
       "\n",
       "[83 rows x 2 columns]"
      ]
     },
     "execution_count": 92,
     "metadata": {},
     "output_type": "execute_result"
    }
   ],
   "source": [
    "Data1 = pd.DataFrame(y_pred,y_test).reset_index()\n",
    "Data1.columns = ['Actual','Predicted' ]\n",
    "Data1"
   ]
  },
  {
   "cell_type": "code",
   "execution_count": 74,
   "id": "306a31f2",
   "metadata": {},
   "outputs": [],
   "source": [
    "from sklearn import metrics"
   ]
  },
  {
   "cell_type": "code",
   "execution_count": 75,
   "id": "1ea31213",
   "metadata": {},
   "outputs": [],
   "source": [
    "residuals=y_test-y_pred"
   ]
  },
  {
   "cell_type": "code",
   "execution_count": 76,
   "id": "bfe633a5",
   "metadata": {},
   "outputs": [
    {
     "data": {
      "text/plain": [
       "(array([ 7.,  4.,  4.,  6., 16., 16., 20.,  6.,  1.,  3.]),\n",
       " array([-20.57529137, -17.36088866, -14.14648595, -10.93208324,\n",
       "         -7.71768053,  -4.50327782,  -1.28887511,   1.9255276 ,\n",
       "          5.1399303 ,   8.35433301,  11.56873572]),\n",
       " <BarContainer object of 10 artists>)"
      ]
     },
     "execution_count": 76,
     "metadata": {},
     "output_type": "execute_result"
    },
    {
     "data": {
      "image/png": "[encoded data removed]",
      "text/plain": [
       "<Figure size 432x288 with 1 Axes>"
      ]
     },
     "metadata": {
      "needs_background": "light"
     },
     "output_type": "display_data"
    }
   ],
   "source": [
    "plt.hist(residuals,bins=10)"
   ]
  },
  {
   "cell_type": "code",
   "execution_count": 77,
   "id": "7a0597c7",
   "metadata": {},
   "outputs": [
    {
     "name": "stderr",
     "output_type": "stream",
     "text": [
      "C:\\Users\\bhave\\anaconda3\\lib\\site-packages\\seaborn\\distributions.py:2619: FutureWarning: `distplot` is a deprecated function and will be removed in a future version. Please adapt your code to use either `displot` (a figure-level function with similar flexibility) or `histplot` (an axes-level function for histograms).\n",
      "  warnings.warn(msg, FutureWarning)\n"
     ]
    },
    {
     "data": {
      "text/plain": [
       "<AxesSubplot:xlabel='house_price', ylabel='Density'>"
      ]
     },
     "execution_count": 77,
     "metadata": {},
     "output_type": "execute_result"
    },
    {
     "data": {
      "image/png": "[encoded data removed]",
      "text/plain": [
       "<Figure size 432x288 with 1 Axes>"
      ]
     },
     "metadata": {
      "needs_background": "light"
     },
     "output_type": "display_data"
    }
   ],
   "source": [
    "sns.distplot(residuals)"
   ]
  },
  {
   "cell_type": "code",
   "execution_count": 78,
   "id": "0d6e81ad",
   "metadata": {},
   "outputs": [
    {
     "name": "stdout",
     "output_type": "stream",
     "text": [
      "MAE: 6.39014330882536\n",
      "MSE: 72.06026292509071\n",
      "RMSE: 8.488831658425717\n"
     ]
    }
   ],
   "source": [
    "print('MAE:', metrics.mean_absolute_error(y_test, y_pred))\n",
    "print('MSE:', metrics.mean_squared_error(y_test, y_pred))\n",
    "print('RMSE:', np.sqrt(metrics.mean_squared_error(y_test, y_pred)))"
   ]
  },
  {
   "cell_type": "markdown",
   "id": "eaa1c11d",
   "metadata": {},
   "source": [
    "## R square and adjusted R square"
   ]
  },
  {
   "cell_type": "code",
   "execution_count": 79,
   "id": "5920f403",
   "metadata": {},
   "outputs": [
    {
     "name": "stdout",
     "output_type": "stream",
     "text": [
      "0.5252510923105722\n"
     ]
    }
   ],
   "source": [
    "from sklearn.metrics import r2_score\n",
    "score=r2_score(y_test,y_pred)\n",
    "print(score)"
   ]
  },
  {
   "cell_type": "markdown",
   "id": "29f5a4b1",
   "metadata": {},
   "source": [
    "# Least Square Estimator Approach"
   ]
  },
  {
   "cell_type": "code",
   "execution_count": 80,
   "id": "180e6d17",
   "metadata": {},
   "outputs": [
    {
     "data": {
      "text/html": [
       "<table class=\"simpletable\">\n",
       "<caption>OLS Regression Results</caption>\n",
       "<tr>\n",
       "  <th>Dep. Variable:</th>       <td>house_price</td>   <th>  R-squared (uncentered):</th>      <td>   0.877</td> \n",
       "</tr>\n",
       "<tr>\n",
       "  <th>Model:</th>                   <td>OLS</td>       <th>  Adj. R-squared (uncentered):</th> <td>   0.876</td> \n",
       "</tr>\n",
       "<tr>\n",
       "  <th>Method:</th>             <td>Least Squares</td>  <th>  F-statistic:       </th>          <td>   777.8</td> \n",
       "</tr>\n",
       "<tr>\n",
       "  <th>Date:</th>             <td>Fri, 07 Oct 2022</td> <th>  Prob (F-statistic):</th>          <td>1.05e-148</td>\n",
       "</tr>\n",
       "<tr>\n",
       "  <th>Time:</th>                 <td>23:15:41</td>     <th>  Log-Likelihood:    </th>          <td> -1353.2</td> \n",
       "</tr>\n",
       "<tr>\n",
       "  <th>No. Observations:</th>      <td>   331</td>      <th>  AIC:               </th>          <td>   2712.</td> \n",
       "</tr>\n",
       "<tr>\n",
       "  <th>Df Residuals:</th>          <td>   328</td>      <th>  BIC:               </th>          <td>   2724.</td> \n",
       "</tr>\n",
       "<tr>\n",
       "  <th>Df Model:</th>              <td>     3</td>      <th>                     </th>              <td> </td>    \n",
       "</tr>\n",
       "<tr>\n",
       "  <th>Covariance Type:</th>      <td>nonrobust</td>    <th>                     </th>              <td> </td>    \n",
       "</tr>\n",
       "</table>\n",
       "<table class=\"simpletable\">\n",
       "<tr>\n",
       "   <td></td>     <th>coef</th>     <th>std err</th>      <th>t</th>      <th>P>|t|</th>  <th>[0.025</th>    <th>0.975]</th>  \n",
       "</tr>\n",
       "<tr>\n",
       "  <th>x1</th> <td>   -2.0758</td> <td>    2.971</td> <td>   -0.699</td> <td> 0.485</td> <td>   -7.921</td> <td>    3.769</td>\n",
       "</tr>\n",
       "<tr>\n",
       "  <th>x2</th> <td>   29.3732</td> <td>    2.300</td> <td>   12.770</td> <td> 0.000</td> <td>   24.848</td> <td>   33.898</td>\n",
       "</tr>\n",
       "<tr>\n",
       "  <th>x3</th> <td>   49.4710</td> <td>    2.212</td> <td>   22.365</td> <td> 0.000</td> <td>   45.120</td> <td>   53.822</td>\n",
       "</tr>\n",
       "</table>\n",
       "<table class=\"simpletable\">\n",
       "<tr>\n",
       "  <th>Omnibus:</th>       <td>110.586</td> <th>  Durbin-Watson:     </th> <td>   1.903</td> \n",
       "</tr>\n",
       "<tr>\n",
       "  <th>Prob(Omnibus):</th> <td> 0.000</td>  <th>  Jarque-Bera (JB):  </th> <td> 592.708</td> \n",
       "</tr>\n",
       "<tr>\n",
       "  <th>Skew:</th>          <td> 1.286</td>  <th>  Prob(JB):          </th> <td>1.97e-129</td>\n",
       "</tr>\n",
       "<tr>\n",
       "  <th>Kurtosis:</th>      <td> 9.030</td>  <th>  Cond. No.          </th> <td>    3.71</td> \n",
       "</tr>\n",
       "</table><br/><br/>Notes:<br/>[1] R² is computed without centering (uncentered) since the model does not contain a constant.<br/>[2] Standard Errors assume that the covariance matrix of the errors is correctly specified."
      ],
      "text/plain": [
       "<class 'statsmodels.iolib.summary.Summary'>\n",
       "\"\"\"\n",
       "                                 OLS Regression Results                                \n",
       "=======================================================================================\n",
       "Dep. Variable:            house_price   R-squared (uncentered):                   0.877\n",
       "Model:                            OLS   Adj. R-squared (uncentered):              0.876\n",
       "Method:                 Least Squares   F-statistic:                              777.8\n",
       "Date:                Fri, 07 Oct 2022   Prob (F-statistic):                   1.05e-148\n",
       "Time:                        23:15:41   Log-Likelihood:                         -1353.2\n",
       "No. Observations:                 331   AIC:                                      2712.\n",
       "Df Residuals:                     328   BIC:                                      2724.\n",
       "Df Model:                           3                                                  \n",
       "Covariance Type:            nonrobust                                                  \n",
       "==============================================================================\n",
       "                 coef    std err          t      P>|t|      [0.025      0.975]\n",
       "------------------------------------------------------------------------------\n",
       "x1            -2.0758      2.971     -0.699      0.485      -7.921       3.769\n",
       "x2            29.3732      2.300     12.770      0.000      24.848      33.898\n",
       "x3            49.4710      2.212     22.365      0.000      45.120      53.822\n",
       "==============================================================================\n",
       "Omnibus:                      110.586   Durbin-Watson:                   1.903\n",
       "Prob(Omnibus):                  0.000   Jarque-Bera (JB):              592.708\n",
       "Skew:                           1.286   Prob(JB):                    1.97e-129\n",
       "Kurtosis:                       9.030   Cond. No.                         3.71\n",
       "==============================================================================\n",
       "\n",
       "Notes:\n",
       "[1] R² is computed without centering (uncentered) since the model does not contain a constant.\n",
       "[2] Standard Errors assume that the covariance matrix of the errors is correctly specified.\n",
       "\"\"\""
      ]
     },
     "execution_count": 80,
     "metadata": {},
     "output_type": "execute_result"
    }
   ],
   "source": [
    "import statsmodels.api as sm\n",
    "model = sm.OLS(y_train,X_train).fit()\n",
    "model.summary()"
   ]
  },
  {
   "cell_type": "code",
   "execution_count": 81,
   "id": "b8fd8c43",
   "metadata": {},
   "outputs": [
    {
     "data": {
      "text/plain": [
       "array([43.99015161, 37.79671858, 26.37806676, 27.91726126, 15.45379147,\n",
       "       32.06610068, 38.45343754, 39.42192808, 16.27990126, 32.88428824,\n",
       "       32.88859804, 40.89294314, 18.55926025, 26.39273829, 47.28564744,\n",
       "       37.10605377, 15.45379147, 34.22344244, 38.48934572, 34.85487156,\n",
       "       51.05642539, 44.12834422, 52.24766247, 39.60887446, 38.26567961,\n",
       "       25.65804829, 38.96538754, 28.36610365, 37.39253117, 27.90959251,\n",
       "       38.89771557, 29.49597889, 29.89883265, 28.38506066, 46.78490396,\n",
       "       28.24418325, 37.79624177, 31.5973722 , 21.0714244 , 27.90304351,\n",
       "       49.03897798, 18.63465656, 47.25247269, 39.02611492, 32.11927498,\n",
       "       36.83497427, 32.47425435, 33.50839696, 40.30227433, 23.98977867,\n",
       "       28.2489225 , 42.82831283, 50.02355681, 28.05177004, 56.46345788,\n",
       "       53.136955  , 15.45379147, 26.55811332, 16.19990461, 38.57641504,\n",
       "       18.69103089, 11.64148777, 36.39480924, 28.24418325, 17.96269659,\n",
       "       54.46976633, 32.55391424, 51.27144464, 28.05650929, 17.88689001,\n",
       "       34.94965658, 28.00646849, 23.31332508, 36.88761735, 47.2998652 ,\n",
       "       34.12811893, 39.04759373, 26.56759182, 12.28623893, 34.82169681,\n",
       "       40.5965956 ,  7.87634664, 50.71411037])"
      ]
     },
     "execution_count": 81,
     "metadata": {},
     "output_type": "execute_result"
    }
   ],
   "source": [
    "prediction=model.predict(X_test)\n",
    "prediction"
   ]
  },
  {
   "cell_type": "code",
   "execution_count": 83,
   "id": "dcba0067",
   "metadata": {
    "scrolled": false
   },
   "outputs": [
    {
     "data": {
      "text/html": [
       "<div>\n",
       "<style scoped>\n",
       "    .dataframe tbody tr th:only-of-type {\n",
       "        vertical-align: middle;\n",
       "    }\n",
       "\n",
       "    .dataframe tbody tr th {\n",
       "        vertical-align: top;\n",
       "    }\n",
       "\n",
       "    .dataframe thead th {\n",
       "        text-align: right;\n",
       "    }\n",
       "</style>\n",
       "<table border=\"1\" class=\"dataframe\">\n",
       "  <thead>\n",
       "    <tr style=\"text-align: right;\">\n",
       "      <th></th>\n",
       "      <th>Actual</th>\n",
       "      <th>Predicted</th>\n",
       "    </tr>\n",
       "  </thead>\n",
       "  <tbody>\n",
       "    <tr>\n",
       "      <th>0</th>\n",
       "      <td>27.3</td>\n",
       "      <td>43.990152</td>\n",
       "    </tr>\n",
       "    <tr>\n",
       "      <th>1</th>\n",
       "      <td>54.4</td>\n",
       "      <td>37.796719</td>\n",
       "    </tr>\n",
       "    <tr>\n",
       "      <th>2</th>\n",
       "      <td>22.0</td>\n",
       "      <td>26.378067</td>\n",
       "    </tr>\n",
       "    <tr>\n",
       "      <th>3</th>\n",
       "      <td>11.6</td>\n",
       "      <td>27.917261</td>\n",
       "    </tr>\n",
       "    <tr>\n",
       "      <th>4</th>\n",
       "      <td>45.4</td>\n",
       "      <td>15.453791</td>\n",
       "    </tr>\n",
       "    <tr>\n",
       "      <th>...</th>\n",
       "      <td>...</td>\n",
       "      <td>...</td>\n",
       "    </tr>\n",
       "    <tr>\n",
       "      <th>78</th>\n",
       "      <td>33.1</td>\n",
       "      <td>12.286239</td>\n",
       "    </tr>\n",
       "    <tr>\n",
       "      <th>79</th>\n",
       "      <td>59.6</td>\n",
       "      <td>34.821697</td>\n",
       "    </tr>\n",
       "    <tr>\n",
       "      <th>80</th>\n",
       "      <td>40.8</td>\n",
       "      <td>40.596596</td>\n",
       "    </tr>\n",
       "    <tr>\n",
       "      <th>81</th>\n",
       "      <td>52.2</td>\n",
       "      <td>7.876347</td>\n",
       "    </tr>\n",
       "    <tr>\n",
       "      <th>82</th>\n",
       "      <td>47.1</td>\n",
       "      <td>50.714110</td>\n",
       "    </tr>\n",
       "  </tbody>\n",
       "</table>\n",
       "<p>83 rows × 2 columns</p>\n",
       "</div>"
      ],
      "text/plain": [
       "    Actual  Predicted\n",
       "0     27.3  43.990152\n",
       "1     54.4  37.796719\n",
       "2     22.0  26.378067\n",
       "3     11.6  27.917261\n",
       "4     45.4  15.453791\n",
       "..     ...        ...\n",
       "78    33.1  12.286239\n",
       "79    59.6  34.821697\n",
       "80    40.8  40.596596\n",
       "81    52.2   7.876347\n",
       "82    47.1  50.714110\n",
       "\n",
       "[83 rows x 2 columns]"
      ]
     },
     "execution_count": 83,
     "metadata": {},
     "output_type": "execute_result"
    }
   ],
   "source": [
    "data=pd.DataFrame(prediction,y_test).reset_index()\n",
    "data.columns = ['Actual','Predicted']\n",
    "data"
   ]
  },
  {
   "cell_type": "code",
   "execution_count": 88,
   "id": "6ede81c1",
   "metadata": {},
   "outputs": [],
   "source": [
    "residuals1=y_test-prediction"
   ]
  },
  {
   "cell_type": "code",
   "execution_count": 89,
   "id": "4ecc2813",
   "metadata": {},
   "outputs": [
    {
     "name": "stderr",
     "output_type": "stream",
     "text": [
      "C:\\Users\\bhave\\anaconda3\\lib\\site-packages\\seaborn\\distributions.py:2619: FutureWarning: `distplot` is a deprecated function and will be removed in a future version. Please adapt your code to use either `displot` (a figure-level function with similar flexibility) or `histplot` (an axes-level function for histograms).\n",
      "  warnings.warn(msg, FutureWarning)\n"
     ]
    },
    {
     "data": {
      "text/plain": [
       "<AxesSubplot:xlabel='house_price', ylabel='Density'>"
      ]
     },
     "execution_count": 89,
     "metadata": {},
     "output_type": "execute_result"
    },
    {
     "data": {
      "image/png": "[encoded data removed]",
      "text/plain": [
       "<Figure size 432x288 with 1 Axes>"
      ]
     },
     "metadata": {
      "needs_background": "light"
     },
     "output_type": "display_data"
    }
   ],
   "source": [
    "sns.distplot(residuals1)"
   ]
  },
  {
   "cell_type": "code",
   "execution_count": null,
   "id": "ecd3f481",
   "metadata": {},
   "outputs": [],
   "source": []
  }
 ],
 "metadata": {
  "kernelspec": {
   "display_name": "Python 3 (ipykernel)",
   "language": "python",
   "name": "python3"
  },
  "language_info": {
   "codemirror_mode": {
    "name": "ipython",
    "version": 3
   },
   "file_extension": ".py",
   "mimetype": "text/x-python",
   "name": "python",
   "nbconvert_exporter": "python",
   "pygments_lexer": "ipython3",
   "version": "3.9.7"
  }
 },
 "nbformat": 4,
 "nbformat_minor": 5
}
